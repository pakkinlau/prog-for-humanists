{
 "cells": [
  {
   "cell_type": "markdown",
   "metadata": {},
   "source": [
    "<h2><center>THE CHINESE UNIVERSITY OF HONG KONG<br />\n",
    "    Department of History<br />\n",
    " HIST47XX<br />\n",
    "    Programming For Humanists</center></h2>\n",
    "\n",
    "# Unit 1b<a id='top'></a>\n",
    "\n",
    "- <a href='#section1'>Section 1 - Online database of humanity text corpus </a>\n",
    "- <a href='#section2'>Section 2 - Hands-on API access and text analysis</a>\n",
    "- <a href='#section3'>Section 3 - Introduction to Natural lanugage processing</a>\n",
    "- <a href='#section4'>Section 4 - Storing data on local folders with programming script</a>"
   ]
  }
 ],
 "metadata": {
  "language_info": {
   "name": "python"
  },
  "orig_nbformat": 4
 },
 "nbformat": 4,
 "nbformat_minor": 2
}
