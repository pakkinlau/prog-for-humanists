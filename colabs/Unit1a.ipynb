{
 "cells": [
  {
   "cell_type": "markdown",
   "metadata": {},
   "source": [
    "<h2><center>THE CHINESE UNIVERSITY OF HONG KONG<br />\n",
    "    Department of History<br />\n",
    " HIST47XX<br />\n",
    "    Programming For Humanists</center></h2>\n",
    "\n",
    "# Unit 1a<a id='top'></a>\n",
    "\n",
    "- <a href='#section1'>Section 1 - Online database, HTTP requests and API access </a>\n",
    "- <a href='#section2'>Section 2 - Hands-on API access</a>\n",
    "- <a href='#section3'>Section 3 - Reading response from server</a>\n",
    "- <a href='#section4'>Section 4 - Storing folders locally with programming script</a>\n",
    "- <a href='#reference'>Reference</a>"
   ]
  },
  {
   "cell_type": "markdown",
   "metadata": {},
   "source": [
    "## Section 1 - Online database, HTTP requests and API access <a id='section1'></a>\n",
    "\n",
    "- Introduce popular online databases and repositories relevant to humanities research.\n",
    "- Restricted access databases\n",
    "- Explains what is APIs\n",
    "- API keys (public keys and private keys) "
   ]
  },
  {
   "cell_type": "markdown",
   "metadata": {},
   "source": [
    "### Web scraping\n",
    "\n",
    "- Compare the difference between web scraping and using APIs.\n",
    "- Example code that run scraping on example website. "
   ]
  },
  {
   "cell_type": "markdown",
   "metadata": {},
   "source": [
    "### Making API requests using python\n",
    "\n",
    "- Example code that run API request on example website. "
   ]
  },
  {
   "cell_type": "markdown",
   "metadata": {},
   "source": [
    "## Section 2 - Hands-on API access <a id='section2'></a>\n",
    "\n",
    "- Try to obtain your API keys from the following website: \n",
    "https://www.wikiart.org/en/App/GetApi"
   ]
  },
  {
   "cell_type": "code",
   "execution_count": 2,
   "metadata": {},
   "outputs": [
    {
     "name": "stdout",
     "output_type": "stream",
     "text": [
      "Failed to retrieve data from the API. Status code: 404\n"
     ]
    }
   ],
   "source": [
    "import requests\n",
    "\n",
    "# Replace 'YOUR_API_KEY' with your actual API key\n",
    "api_key = \"1917782ce92540d1\"\n",
    "base_url = 'https://api.wikiart.org/'\n",
    "artworks_category = 'paintings'\n",
    "\n",
    "# Construct the complete API endpoint URL\n",
    "api_endpoint = f'{base_url}{artworks_category}'\n",
    "\n",
    "# Make a GET request to the API\n",
    "response = requests.get(api_endpoint, headers={'x-api-key': api_key})\n",
    "\n",
    "# Check the response status code\n",
    "if response.status_code == 200:\n",
    "    # API request was successful\n",
    "    data = response.json()\n",
    "    # Process the data as needed\n",
    "    print(data)\n",
    "else:\n",
    "    # API request failed\n",
    "    print(\"Failed to retrieve data from the API. Status code:\", response.status_code)"
   ]
  },
  {
   "cell_type": "markdown",
   "metadata": {},
   "source": [
    "## Section 3 - Reading response from server <a id='section3'></a>"
   ]
  },
  {
   "cell_type": "markdown",
   "metadata": {},
   "source": [
    "## Section 4 - Storing folders locally with programming script <a id='section4'></a>"
   ]
  },
  {
   "cell_type": "markdown",
   "metadata": {},
   "source": [
    "## Reference\n",
    "\n",
    "1. Real Python - REST and Python: Consuming APIs (https://realpython.com/api-integration-in-python/#rest-and-python-consuming-apis)"
   ]
  }
 ],
 "metadata": {
  "kernelspec": {
   "display_name": "Python 3",
   "language": "python",
   "name": "python3"
  },
  "language_info": {
   "codemirror_mode": {
    "name": "ipython",
    "version": 3
   },
   "file_extension": ".py",
   "mimetype": "text/x-python",
   "name": "python",
   "nbconvert_exporter": "python",
   "pygments_lexer": "ipython3",
   "version": "3.10.12"
  },
  "orig_nbformat": 4
 },
 "nbformat": 4,
 "nbformat_minor": 2
}
