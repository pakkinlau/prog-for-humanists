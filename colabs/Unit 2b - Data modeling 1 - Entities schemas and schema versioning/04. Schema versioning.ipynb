{
 "cells": [
  {
   "cell_type": "markdown",
   "metadata": {},
   "source": [
    "## Schema versioning\n",
    "\n",
    "As your data grows in size and complexity, it becomes necessary to manage the evolution of your data model. Schema versioning is an essential practice to ensure the smooth transition and compatibility of your MongoDB database as the schema changes over time.\n",
    "\n"
   ]
  },
  {
   "cell_type": "markdown",
   "metadata": {},
   "source": [
    "In mongoDB, there is an effective pattern for versioning (a technical term of 'book-keeping') old schema patterns."
   ]
  },
  {
   "cell_type": "code",
   "execution_count": null,
   "metadata": {},
   "outputs": [],
   "source": [
    "import pymongo\n",
    "from pymongo import MongoClient\n",
    "\n",
    "# Connect to MongoDB\n",
    "client = MongoClient('mongodb://localhost:27017/')\n",
    "db = client['mydatabase']\n",
    "\n",
    "# Define the collection name and schema versions\n",
    "collection_name = 'mycollection'\n",
    "\n",
    "# We keep all the schema versions in a dictionary, \n",
    "# where keys are the version numbers, and values are the schema definitions\n",
    "schema_versions = {\n",
    "    1: {\n",
    "        'field1': str,\n",
    "        'field2': int\n",
    "    },\n",
    "    2: {\n",
    "        'field1': str,\n",
    "        'field2': int,\n",
    "        'field3': bool\n",
    "    },\n",
    "    # Add more schema versions here\n",
    "}\n",
    "\n",
    "# Get the current schema version of the collection\n",
    "def get_current_schema_version():\n",
    "    if collection_name in db.list_collection_names():\n",
    "        collection_info = db[collection_name].options()\n",
    "        # Look for 'schemaVersion' attribute in the collection options exist in 'Schema' object. \n",
    "        if 'schemaVersion' in collection_info:\n",
    "            return collection_info['schemaVersion']\n",
    "    return 0\n",
    "\n",
    "# Update the schema of the collection to the latest version\n",
    "def update_collection_schema():\n",
    "    current_version = get_current_schema_version()\n",
    "    latest_version = max(schema_versions.keys())\n",
    "    \n",
    "    if current_version < latest_version:\n",
    "        for version in range(current_version + 1, latest_version + 1):\n",
    "            schema = schema_versions[version]\n",
    "            db.command('collMod', collection_name, validator=schema)\n",
    "            db[collection_name].options(schemaVersion=version)\n",
    "            print(f'Schema updated to version {version}')\n",
    "    else:\n",
    "        print('Current schema is up to date')\n",
    "\n",
    "# Example usage\n",
    "update_collection_schema()"
   ]
  }
 ],
 "metadata": {
  "language_info": {
   "name": "python"
  }
 },
 "nbformat": 4,
 "nbformat_minor": 2
}
