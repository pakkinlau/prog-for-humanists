{
 "cells": [
  {
   "cell_type": "markdown",
   "metadata": {},
   "source": [
    "## Enforce a schema on a collection of MongoDB atlas"
   ]
  },
  {
   "cell_type": "markdown",
   "metadata": {},
   "source": [
    "### Working on a new collection\n",
    "\n",
    "We can setup a `enforce_schema()` function inside `insert_document()` so that every documents are checked before they are inserted into the collection. "
   ]
  },
  {
   "cell_type": "code",
   "execution_count": null,
   "metadata": {},
   "outputs": [],
   "source": [
    "from pymongo import MongoClient\n",
    "from pymongo.errors import WriteError\n",
    "\n",
    "# Connect to MongoDB\n",
    "client = MongoClient('<mongodb_connection_string>')\n",
    "db = client['your_database']\n",
    "collection = db['your_collection']\n",
    "\n",
    "# Define the schema\n",
    "schema = {\n",
    "    'name': str,\n",
    "    'age': int,\n",
    "    'email': str\n",
    "}\n",
    "\n",
    "# Function to enforce the schema\n",
    "def enforce_schema(document):\n",
    "    for field, data_type in schema.items():\n",
    "        if field not in document or not isinstance(document[field], data_type):\n",
    "            raise WriteError(f\"Invalid schema for field '{field}'\")\n",
    "\n",
    "# Function to insert a document with enforced schema\n",
    "def insert_document(document):\n",
    "    enforce_schema(document)\n",
    "    collection.insert_one(document)\n",
    "    print(\"Document inserted successfully.\")\n",
    "\n",
    "# Example usage\n",
    "document1 = {\n",
    "    'name': 'John Doe',\n",
    "    'age': 30,\n",
    "    'email': 'john.doe@example.com'\n",
    "}\n",
    "insert_document(document1)\n",
    "\n",
    "document2 = {\n",
    "    'name': 'Jane Smith',\n",
    "    'age': '25',  # Invalid age type\n",
    "    'email': 'jane.smith@example.com'\n",
    "}\n",
    "\n",
    "try:\n",
    "    insert_document(document2)\n",
    "except WriteError as e:\n",
    "    print(e)"
   ]
  },
  {
   "cell_type": "markdown",
   "metadata": {},
   "source": [
    "## Working on existing collection\n",
    "\n",
    "- Iterate over the documents in the collection, validate each document against the schema\n",
    "- Store the set of invalid documents into a list. \n",
    "- Print out the set of invalid document id in the final step"
   ]
  },
  {
   "cell_type": "code",
   "execution_count": null,
   "metadata": {},
   "outputs": [],
   "source": [
    "from pymongo import MongoClient\n",
    "\n",
    "# Connect to MongoDB\n",
    "client = MongoClient('<mongodb_connection_string>')\n",
    "db = client['your_database']\n",
    "collection = db['your_collection']\n",
    "\n",
    "# Define the schema\n",
    "schema = {\n",
    "    'name': str,\n",
    "    'age': int,\n",
    "    'email': str\n",
    "}\n",
    "\n",
    "# Function to enforce the schema for an existing collection\n",
    "def enforce_collection_schema():\n",
    "    invalid_documents = []\n",
    "\n",
    "    for document in collection.find():\n",
    "        for field, data_type in schema.items():\n",
    "            if field not in document or not isinstance(document[field], data_type):\n",
    "                invalid_documents.append(document)\n",
    "                break\n",
    "\n",
    "    return invalid_documents\n",
    "\n",
    "# Usage\n",
    "invalid_docs = enforce_collection_schema()\n",
    "\n",
    "# Print the invalid documents\n",
    "for doc in invalid_docs:\n",
    "    print(f\"Invalid document: {doc}\")"
   ]
  }
 ],
 "metadata": {
  "language_info": {
   "name": "python"
  }
 },
 "nbformat": 4,
 "nbformat_minor": 2
}
