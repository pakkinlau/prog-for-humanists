{
 "cells": [
  {
   "cell_type": "markdown",
   "metadata": {},
   "source": [
    "# Schema in MongoDB"
   ]
  },
  {
   "cell_type": "markdown",
   "metadata": {},
   "source": [
    "## What is data modeling?\n",
    "\n",
    "Data modeling refers to the organization of data within a database and the links between related entities.\n",
    "Data in MongoDB has a flexible schema model, which means:\n",
    "- Documents within a single collection are *not required* to have the same set of fields.\n",
    "- A field's data type can differ between documents within a collection.\n",
    "\n",
    "Generally, documents in a collection share a similar structure. To ensure consistency in your data model, you can create schema validation rules.\n",
    "\n",
    "## Why do we need data modeling?\n",
    "\n",
    "Data modeling is essential for several reasons:\n",
    "\n",
    "1. **Data organization**: Data modeling helps structure and organize data within a database. By defining the relationships between entities and establishing a schema, data modeling provides a framework for storing and retrieving information efficiently.\n",
    "\n",
    "2. **Data integrity**: A well-designed data model ensures data integrity by enforcing constraints and rules on the data stored in the database. This helps prevent data inconsistencies, inaccuracies, and anomalies.\n",
    "\n",
    "3. **Data consistency**: Data modeling allows you to define standards and guidelines for how data should be stored and represented. This ensures that data is consistent across different documents or entities, making it easier to query and analyze.\n",
    "\n",
    "4. **Scalability**: Data modeling plays a crucial role in designing a scalable database system. By carefully modeling the data and considering factors such as data growth, access patterns, and future requirements, you can design a database that can scale with increasing data volumes and user demands."
   ]
  },
  {
   "cell_type": "markdown",
   "metadata": {},
   "source": [
    "## What is a Schema?\n",
    "\n",
    "A schema is a JSON object that defines the structure and contents of your data. You can use Atlas App Services' BSON schemas, which extend the \n",
    "JSON Schema\n",
    " standard, to define your application's data model and validate documents whenever they're created, changed, or deleted.\n",
    "\n",
    "Schemas represent types of data rather than specific values. App Services supports many built-in schema types. These include primitives, like strings and numbers, as well as structural types, like objects and arrays, which you can combine to create schemas that represent custom object types.\n",
    "\n",
    "For example, this is a basic schema for data about cars and some car objects that conform to the schema:\n",
    "\n",
    "```javascript\n",
    "{\n",
    "  \"title\": \"car\",\n",
    "  \"required\": [\n",
    "     \"_id\",\n",
    "     \"year\",\n",
    "     \"make\",\n",
    "     \"model\",\n",
    "     \"miles\"\n",
    "  ],\n",
    "  \"properties\": {\n",
    "    \"_id\": { \"bsonType\": \"objectId\" },\n",
    "    \"year\": { \"bsonType\": \"string\" },\n",
    "    \"make\": { \"bsonType\": \"string\" },\n",
    "    \"model\": { \"bsonType\": \"string\" },\n",
    "    \"miles\": { \"bsonType\": \"number\" }\n",
    "  }\n",
    "}\n",
    "```\n"
   ]
  },
  {
   "cell_type": "code",
   "execution_count": null,
   "metadata": {},
   "outputs": [],
   "source": []
  }
 ],
 "metadata": {
  "language_info": {
   "name": "python"
  }
 },
 "nbformat": 4,
 "nbformat_minor": 2
}
