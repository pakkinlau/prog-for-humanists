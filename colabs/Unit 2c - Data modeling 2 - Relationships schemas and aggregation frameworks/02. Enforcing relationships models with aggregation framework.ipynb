{
 "cells": [
  {
   "cell_type": "markdown",
   "metadata": {},
   "source": [
    "In general, enforcing schema on existing collection would requires more works because it could return invalid documents and we need to figure these set of documents in a way to match the new schema. "
   ]
  },
  {
   "cell_type": "markdown",
   "metadata": {},
   "source": [
    "## Case 1: Applying on a new collection"
   ]
  },
  {
   "cell_type": "markdown",
   "metadata": {},
   "source": [
    "Enforcing schema on a new collection is easy. We just need to setup the rules of inserting documents before we insert any documents. Invalid documents cannot be passed into the collection: "
   ]
  },
  {
   "cell_type": "code",
   "execution_count": null,
   "metadata": {},
   "outputs": [],
   "source": [
    "from pymongo import MongoClient\n",
    "\n",
    "# Connect to MongoDB\n",
    "client = MongoClient('mongodb://localhost:27017')\n",
    "db = client['mydatabase']\n",
    "\n",
    "# Define a validation schema for embedded many-to-many relationship\n",
    "validation_schema = {\n",
    "    \"$jsonSchema\": {\n",
    "        \"bsonType\": \"object\",\n",
    "        \"required\": [\"name\", \"related_documents\"],\n",
    "        \"properties\": {\n",
    "            \"name\": {\n",
    "                \"bsonType\": \"string\",\n",
    "                \"description\": \"The name of the document\"\n",
    "            },\n",
    "            \"related_documents\": {\n",
    "                \"bsonType\": \"array\",\n",
    "                \"description\": \"An array of related documents\",\n",
    "                \"items\": {\n",
    "                    \"bsonType\": \"object\",\n",
    "                    \"required\": [\"document_id\"],\n",
    "                    \"properties\": {\n",
    "                        \"document_id\": {\n",
    "                            \"bsonType\": \"objectId\",\n",
    "                            \"description\": \"The ObjectId of the related document\"\n",
    "                        },\n",
    "                        \"relationship_data\": {\n",
    "                            \"bsonType\": \"object\",\n",
    "                            \"description\": \"Additional relationship data\"\n",
    "                        }\n",
    "                    }\n",
    "                }\n",
    "            }\n",
    "        }\n",
    "    }\n",
    "}\n",
    "\n",
    "# Create the collection with the validation schema\n",
    "collection = db.create_collection('mycollection', validator=validation_schema)\n",
    "\n",
    "# Enable strict validation\n",
    "collection.options().update({'validationLevel': 'strict', 'validationAction': 'error'})\n",
    "\n",
    "# Insert a document with embedded related documents\n",
    "document = {\n",
    "    \"name\": \"Document 1\",\n",
    "    \"related_documents\": [\n",
    "        {\n",
    "            \"document_id\": ObjectId(\"5fe83b3b11a41e4b1f6a1a4d\"),\n",
    "            \"relationship_data\": {\"field1\": \"value1\"}\n",
    "        },\n",
    "        {\n",
    "            \"document_id\": ObjectId(\"5fe83b3b11a41e4b1f6a1a4e\"),\n",
    "            \"relationship_data\": {\"field2\": \"value2\"}\n",
    "        }\n",
    "    ]\n",
    "}\n",
    "\n",
    "# Insert the document\n",
    "collection.insert_one(document)"
   ]
  },
  {
   "cell_type": "markdown",
   "metadata": {},
   "source": [
    "# Case 2: Applying on existing collection"
   ]
  },
  {
   "cell_type": "markdown",
   "metadata": {},
   "source": [
    "## Enfocing \"referencing\" in some fields in a collection"
   ]
  },
  {
   "cell_type": "markdown",
   "metadata": {},
   "source": [
    "#### Step 1: Define your relationship model\n",
    "\n",
    "Determine whether you want to use embedded documents or references for your relationships. Embedded documents store related data within the same document, while referencing involves storing references to related documents."
   ]
  },
  {
   "cell_type": "code",
   "execution_count": null,
   "metadata": {},
   "outputs": [],
   "source": [
    "db.createCollection(\"myCollection\", {\n",
    "   validator: {\n",
    "      $jsonSchema: {\n",
    "         bsonType: \"object\",\n",
    "         required: [\"referenceField\"],\n",
    "         properties: {\n",
    "            referenceField: {\n",
    "               bsonType: \"objectId\",\n",
    "               description: \"Reference to another document\"\n",
    "            }\n",
    "         }\n",
    "      }\n",
    "   }\n",
    "})"
   ]
  },
  {
   "cell_type": "markdown",
   "metadata": {},
   "source": [
    "#### Step 2: Enable the defined validation schema\n",
    "\n",
    "We can do this by setting the validator option when creating the collection or by updating an existing collection."
   ]
  },
  {
   "cell_type": "code",
   "execution_count": null,
   "metadata": {},
   "outputs": [],
   "source": [
    "db.runCommand({\n",
    "   collMod: \"myCollection\",\n",
    "   validator: {\n",
    "      $jsonSchema: {\n",
    "         // Define your validation schema here\n",
    "      }\n",
    "   },\n",
    "   validationLevel: \"strict\",\n",
    "   validationAction: \"error\"\n",
    "})"
   ]
  }
 ],
 "metadata": {
  "language_info": {
   "name": "python"
  }
 },
 "nbformat": 4,
 "nbformat_minor": 2
}
