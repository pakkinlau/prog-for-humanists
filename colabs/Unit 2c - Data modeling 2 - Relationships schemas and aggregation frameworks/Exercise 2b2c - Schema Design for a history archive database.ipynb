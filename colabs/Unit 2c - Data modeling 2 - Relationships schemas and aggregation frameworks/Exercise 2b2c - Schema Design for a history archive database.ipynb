{
 "cells": [
  {
   "cell_type": "markdown",
   "metadata": {},
   "source": [
    "## Connect to mongoDB atlas"
   ]
  },
  {
   "cell_type": "code",
   "execution_count": null,
   "metadata": {},
   "outputs": [],
   "source": [
    "from pymongo import MongoClient\n",
    "\n",
    "# Replace the connection string with your own\n",
    "connection_string = \"mongodb+srv://<username>:<password>@<cluster-url>\"\n",
    "\n",
    "# Create a MongoClient instance\n",
    "client = MongoClient(connection_string)\n",
    "\n",
    "# Access the database\n",
    "db = client['history_archive']"
   ]
  },
  {
   "cell_type": "markdown",
   "metadata": {},
   "source": [
    "## Design the Schema"
   ]
  },
  {
   "cell_type": "markdown",
   "metadata": {},
   "source": [
    "- Determine the entities and relationships in your history archive database. For example, you might have entities like Person, Event, Document, etc.\n",
    "- Design the schema by defining the collections and their fields. Think about the relationships between the collections and how the data will be structured. Start with a simple schema and expand it as needed.\n",
    "- Here's an example schema for a history archive database:\n",
    "```\n",
    "Collection: persons\n",
    "Fields: _id, name, birth_date, death_date\n",
    "Collection: events\n",
    "Fields: _id, name, date, description\n",
    "Collection: documents\n",
    "Fields: _id, title, author, content, date\n",
    "```"
   ]
  },
  {
   "cell_type": "markdown",
   "metadata": {},
   "source": [
    "## Part 1: Understanding the Data\n",
    "\n",
    "Before we can design a database schema, we need to understand the types of data we'll be storing. For our history archive, consider the following entities:\n",
    "\n",
    "- Historical events (e.g., wars, signings of treaties, inventions)\n",
    "- Historical figures (e.g., leaders, scientists, artists)\n",
    "- Artifacts (e.g., documents, items, recordings)\n",
    "\n",
    "Each of these entities has attributes that we will need to store in our database. "
   ]
  },
  {
   "cell_type": "markdown",
   "metadata": {},
   "source": [
    "## Creating collections, and specifying validation rules to each collection"
   ]
  },
  {
   "cell_type": "code",
   "execution_count": null,
   "metadata": {},
   "outputs": [],
   "source": []
  },
  {
   "cell_type": "markdown",
   "metadata": {},
   "source": [
    "## Implement CRUD Operations\n",
    "\n",
    "- Implement Python functions for performing CRUD (Create, Read, Update, Delete) operations on the collections.\n",
    "- For example, you can create functions like create_person, get_person, update_person, delete_person, etc.\n",
    "- Here's an example implementation for the create_person function:"
   ]
  },
  {
   "cell_type": "code",
   "execution_count": null,
   "metadata": {},
   "outputs": [],
   "source": [
    "def create_person(name, birth_date, death_date):\n",
    "    person = {\n",
    "        'name': name,\n",
    "        'birth_date': birth_date,\n",
    "        'death_date': death_date\n",
    "    }\n",
    "    result = db['persons'].insert_one(person)\n",
    "    return result.inserted_id\n",
    "```"
   ]
  },
  {
   "cell_type": "markdown",
   "metadata": {},
   "source": [
    "## Write exercise tasks\n",
    "\n",
    "- Create exercise tasks that require students to design and implement specific queries or operations on the history archive database.\n",
    "- For example, you can ask students to write a query to find all events that occurred between two dates or implement a function to update a person's birth date.\n",
    "- Provide clear instructions and examples for each task to guide the students."
   ]
  }
 ],
 "metadata": {
  "language_info": {
   "name": "python"
  }
 },
 "nbformat": 4,
 "nbformat_minor": 2
}
