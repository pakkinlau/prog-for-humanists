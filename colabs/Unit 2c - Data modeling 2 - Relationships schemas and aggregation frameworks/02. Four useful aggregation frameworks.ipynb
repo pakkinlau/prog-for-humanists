{
 "cells": [
  {
   "cell_type": "markdown",
   "metadata": {},
   "source": [
    "## Aggregation frameworks in mongoDB"
   ]
  },
  {
   "cell_type": "code",
   "execution_count": null,
   "metadata": {},
   "outputs": [],
   "source": []
  },
  {
   "cell_type": "markdown",
   "metadata": {},
   "source": [
    "## Pipeline 1 - Summarizing documents in a collection\n",
    "\n",
    "Using `$match` and `$group` stages in a mongoDB aggregation pipeline\n",
    "- `$$match: { <query> }`: specify criteria to filter ther documents that will be processed further in the pipeline.\n",
    "- `$group: { _id: <expression>, // Group key <field1>: { <accumulator1> : <expression1> }, ...}`: perform grouping based on specified fields, and applies various accumulators to calculate aggregate values within each group."
   ]
  },
  {
   "cell_type": "markdown",
   "metadata": {},
   "source": [
    "Here is a pseudocode of this aggragation pipeline: "
   ]
  },
  {
   "cell_type": "code",
   "execution_count": null,
   "metadata": {},
   "outputs": [],
   "source": [
    "db.collection.aggregate([\n",
    "  { $match: { condition: \"some value\" } },\n",
    "  { $group: { _id: \"$groupField\", total: { $sum: \"$valueField\" } } }\n",
    "]);"
   ]
  },
  {
   "cell_type": "markdown",
   "metadata": {},
   "source": [
    "Here is an example of this aggregation pipeline:"
   ]
  },
  {
   "cell_type": "code",
   "execution_count": null,
   "metadata": {},
   "outputs": [],
   "source": [
    "# initial documents in a collection:\n",
    "\n",
    "db.sales.insertMany([\n",
    "  { \"_id\" : 1, \"item\" : \"abc\", \"price\" : Decimal128(\"10\"), \"quantity\" : Int32(\"2\"), \"date\" : ISODate(\"2014-03-01T08:00:00Z\") },\n",
    "  { \"_id\" : 2, \"item\" : \"jkl\", \"price\" : Decimal128(\"20\"), \"quantity\" : Int32(\"1\"), \"date\" : ISODate(\"2014-03-01T09:00:00Z\") },\n",
    "  { \"_id\" : 3, \"item\" : \"xyz\", \"price\" : Decimal128(\"5\"), \"quantity\" : Int32( \"10\"), \"date\" : ISODate(\"2014-03-15T09:00:00Z\") },\n",
    "  { \"_id\" : 4, \"item\" : \"xyz\", \"price\" : Decimal128(\"5\"), \"quantity\" :  Int32(\"20\") , \"date\" : ISODate(\"2014-04-04T11:21:39.736Z\") },\n",
    "  { \"_id\" : 5, \"item\" : \"abc\", \"price\" : Decimal128(\"10\"), \"quantity\" : Int32(\"10\") , \"date\" : ISODate(\"2014-04-04T21:23:13.331Z\") },\n",
    "  { \"_id\" : 6, \"item\" : \"def\", \"price\" : Decimal128(\"7.5\"), \"quantity\": Int32(\"5\" ) , \"date\" : ISODate(\"2015-06-04T05:08:13Z\") },\n",
    "  { \"_id\" : 7, \"item\" : \"def\", \"price\" : Decimal128(\"7.5\"), \"quantity\": Int32(\"10\") , \"date\" : ISODate(\"2015-09-10T08:43:00Z\") },\n",
    "  { \"_id\" : 8, \"item\" : \"abc\", \"price\" : Decimal128(\"10\"), \"quantity\" : Int32(\"5\" ) , \"date\" : ISODate(\"2016-02-06T20:20:13Z\") },\n",
    "])\n",
    "\n",
    "# aggregation pipleine: that calculate cash value of sales (price times quantity) in a collection\n",
    "db.sales.aggregate(\n",
    "  [\n",
    "    # First Stage\n",
    "    # `$group`: groups the documents by `item` to retrieve the distinct item values, and return the `totalSaleAmount` for each items.\n",
    "    {\n",
    "      $group :\n",
    "        {\n",
    "          _id : \"$item\",\n",
    "          totalSaleAmount: { $sum: { $multiply: [ \"$price\", \"$quantity\" ] } }\n",
    "        }\n",
    "     },\n",
    "     # Second Stage\n",
    "     # `$match`: filters the resulting documents to only return items with a `totalSaleAmount` greater than or equal to 100.\n",
    "     {\n",
    "       $match: { \"totalSaleAmount\": { $gte: 100 } }\n",
    "     }\n",
    "   ]\n",
    " )\n",
    "\n",
    "# Expected result are as follows:\n",
    "\"\"\" \n",
    "{ \"_id\" : \"abc\", \"totalSaleAmount\" : Decimal128(\"170\") }\n",
    "{ \"_id\" : \"xyz\", \"totalSaleAmount\" : Decimal128(\"150\") }\n",
    "{ \"_id\" : \"def\", \"totalSaleAmount\" : Decimal128(\"112.5\") }\n",
    "\"\"\""
   ]
  },
  {
   "cell_type": "markdown",
   "metadata": {},
   "source": [
    "## Pipeline 2: Retrieving a sorted subset of document\n",
    "\n",
    "Using `$sort` and `$limit` stages in a mongoDB aggregation pipeline\n",
    "- `$sort: { <field1>: <sort order>, <field2>: <sort order> ... }`: sort the documents based on one or more fields. If `<sort order>` is 1, it is in descending order; -1 then it is in ascending order. \n",
    "- `$limit: <positive 64-bit integer>`:  restrict the number of documents in the output\n",
    "\n",
    "Here is an example aggregation pipeline of `$sort` + `$limit`:"
   ]
  },
  {
   "cell_type": "code",
   "execution_count": null,
   "metadata": {},
   "outputs": [],
   "source": [
    "db.collection.aggregate([\n",
    "  { $sort: { field1: 1 } },     # Sort documents in ascending order of field1\n",
    "  { $limit: 10 }                # Retrieve only the first 10 documents\n",
    "])"
   ]
  },
  {
   "cell_type": "markdown",
   "metadata": {},
   "source": [
    "Here is a detailed example of `$sort` pipeline:"
   ]
  },
  {
   "cell_type": "code",
   "execution_count": null,
   "metadata": {},
   "outputs": [],
   "source": [
    "db.restaurants.insertMany( [\n",
    "   { \"_id\" : 1, \"name\" : \"Central Park Cafe\", \"borough\" : \"Manhattan\"},\n",
    "   { \"_id\" : 2, \"name\" : \"Rock A Feller Bar and Grill\", \"borough\" : \"Queens\"},\n",
    "   { \"_id\" : 3, \"name\" : \"Empire State Pub\", \"borough\" : \"Brooklyn\"},\n",
    "   { \"_id\" : 4, \"name\" : \"Stan's Pizzaria\", \"borough\" : \"Manhattan\"},\n",
    "   { \"_id\" : 5, \"name\" : \"Jane's Deli\", \"borough\" : \"Brooklyn\"},\n",
    "] )\n",
    "\n",
    "db.restaurants.aggregate(\n",
    "   [\n",
    "     { $sort : { borough : 1 } }\n",
    "   ]\n",
    ")\n",
    "\n",
    "\"\"\" \n",
    "{ \"_id\" : 3, \"name\" : \"Empire State Pub\", \"borough\" : \"Brooklyn\" }\n",
    "{ \"_id\" : 5, \"name\" : \"Jane's Deli\", \"borough\" : \"Brooklyn\" }\n",
    "{ \"_id\" : 1, \"name\" : \"Central Park Cafe\", \"borough\" : \"Manhattan\" }\n",
    "{ \"_id\" : 4, \"name\" : \"Stan's Pizzaria\", \"borough\" : \"Manhattan\" }\n",
    "{ \"_id\" : 2, \"name\" : \"Rock A Feller Bar and Grill\", \"borough\" : \"Queens\" }\n",
    "{ \"_id\" : 5, \"name\" : \"Jane's Deli\", \"borough\" : \"Brooklyn\" }\n",
    "{ \"_id\" : 3, \"name\" : \"Empire State Pub\", \"borough\" : \"Brooklyn\" }\n",
    "{ \"_id\" : 4, \"name\" : \"Stan's Pizzaria\", \"borough\" : \"Manhattan\" }\n",
    "{ \"_id\" : 1, \"name\" : \"Central Park Cafe\", \"borough\" : \"Manhattan\" }\n",
    "{ \"_id\" : 2, \"name\" : \"Rock A Feller Bar and Grill\", \"borough\" : \"Queens\" }\n",
    "\n",
    "\"\"\""
   ]
  },
  {
   "cell_type": "markdown",
   "metadata": {},
   "source": [
    "## Pipeline 3: Get insights into the size and quantity of matched documents\n",
    "\n",
    "Using `$project`, `$set` and `$count` stages in a mongoDB aggregation pipeline\n",
    "- `$$project: { <specification(s)> }`: reshape documents in the pipeline by specifying which fields to include or exclude and by creating new computed fields\n",
    "- `$count: <string>`: count the number of documents in the pipeline at a specific point\n",
    "- `$set: { <newField>: <expression>, ... }`: add new fields or overwrite existing fields with new values\n",
    "\n",
    "Here is the pseudocode of this pipeline:"
   ]
  },
  {
   "cell_type": "code",
   "execution_count": null,
   "metadata": {},
   "outputs": [],
   "source": [
    "db.collection.aggregate([\n",
    "  { $project: { field1: 1, field2: 1 } },  // Include only 'field1' and 'field2'\n",
    "  { $set: { newField: { $add: ['$field1', '$field2'] } } },  // Create a new field 'newField' by adding 'field1' and 'field2'\n",
    "  { $count: 'documentCount' }  // Count the number of documents in the pipeline\n",
    "])"
   ]
  },
  {
   "cell_type": "markdown",
   "metadata": {},
   "source": [
    "## Pipeline 4: Store the results of the pipeline into a specified collection\n",
    "\n",
    "Using `$out` stage in a mongoDB aggregation pipeline\n",
    "\n",
    "- `$out: { db: \"<output-db>\", coll: \"<output-collection>\" }`: store the aggregation results in a collection. It creates a new collection if it doesn't exist or replaces the existing collection if it does."
   ]
  },
  {
   "cell_type": "markdown",
   "metadata": {},
   "source": [
    "Here is an example of this pipeline:"
   ]
  },
  {
   "cell_type": "code",
   "execution_count": null,
   "metadata": {},
   "outputs": [],
   "source": [
    "# in the `test` database, create a collection `book` with 5 documents: \n",
    "db.getSiblingDB(\"test\").books.insertMany([\n",
    "   { \"_id\" : 8751, \"title\" : \"The Banquet\", \"author\" : \"Dante\", \"copies\" : 2 },\n",
    "   { \"_id\" : 8752, \"title\" : \"Divine Comedy\", \"author\" : \"Dante\", \"copies\" : 1 },\n",
    "   { \"_id\" : 8645, \"title\" : \"Eclogues\", \"author\" : \"Dante\", \"copies\" : 2 },\n",
    "   { \"_id\" : 7000, \"title\" : \"The Odyssey\", \"author\" : \"Homer\", \"copies\" : 10 },\n",
    "   { \"_id\" : 7020, \"title\" : \"Iliad\", \"author\" : \"Homer\", \"copies\" : 10 }\n",
    "])\n",
    "\n",
    "# output perform grouping based on specified fields, \n",
    "# and applies various accumulators to calculate aggregate values within each group.\n",
    "db.getSiblingDB(\"test\").books.aggregate( [\n",
    "    { $group : { _id : \"$author\", books: { $push: \"$title\" } } },\n",
    "    { $out : \"authors\" }\n",
    "] )\n",
    "\n",
    "# Group stage: There are in total 2 authors, and the output collection `authors` has 2 groups:\n",
    "\"\"\" \n",
    "{ \"_id\" : \"Dante\", \"books\" : [ \"The Banquet\", \"Divine Comedy\", \"Eclogues\" ] }\n",
    "{ \"_id\" : \"Homer\", \"books\" : [ \"The Odyssey\", \"Iliad\" ] }\n",
    "\"\"\"\n",
    "\n",
    "# Next, we can query the `authors` collection to get the result:\n",
    "\"\"\" \n",
    "db.getSiblingDB(\"test\").authors.find()\n",
    "\n",
    "{ \"_id\" : \"Homer\", \"books\" : [ \"The Odyssey\", \"Iliad\" ] }\n",
    "{ \"_id\" : \"Dante\", \"books\" : [ \"The Banquet\", \"Divine Comedy\", \"Eclogues\" ] }\n",
    "\"\"\""
   ]
  }
 ],
 "metadata": {
  "language_info": {
   "name": "python"
  }
 },
 "nbformat": 4,
 "nbformat_minor": 2
}
