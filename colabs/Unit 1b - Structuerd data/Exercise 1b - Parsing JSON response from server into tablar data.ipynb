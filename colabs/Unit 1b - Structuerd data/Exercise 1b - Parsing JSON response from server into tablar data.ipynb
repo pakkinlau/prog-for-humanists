{
 "cells": [
  {
   "cell_type": "markdown",
   "metadata": {},
   "source": [
    "#### Step 1: Set up the project\n",
    "\n",
    "Create a new directory for your project and navigate to it in the terminal. Initialize a new virtual environment to keep your project dependencies isolated"
   ]
  },
  {
   "cell_type": "markdown",
   "metadata": {},
   "source": [
    "#### Step 2: Install dependencies\n",
    "\n",
    "In this project, you'll need the requests library to interact with the server and the tabulate library to format the tabular data. Install both libraries using pip."
   ]
  },
  {
   "cell_type": "code",
   "execution_count": null,
   "metadata": {},
   "outputs": [],
   "source": []
  },
  {
   "cell_type": "markdown",
   "metadata": {},
   "source": [
    "#### Step 3: Create the main script\n",
    "\n",
    "Inside your project directory, create a new Python file named json_parser.py. This file will contain the main logic for parsing JSON responses and converting them into tabular data."
   ]
  },
  {
   "cell_type": "code",
   "execution_count": null,
   "metadata": {},
   "outputs": [],
   "source": [
    "import requests\n",
    "from tabulate import tabulate\n",
    "\n",
    "def parse_json_response(url):\n",
    "    response = requests.get(url)\n",
    "    data = response.json()\n",
    "    headers = data[0].keys()\n",
    "    rows = [list(item.values()) for item in data]\n",
    "    return headers, rows\n",
    "\n",
    "def display_tabular_data(headers, rows):\n",
    "    table = tabulate(rows, headers, tablefmt=\"grid\")\n",
    "    print(table)\n",
    "\n",
    "if __name__ == \"__main__\":\n",
    "    url = \"https://api.example.com/data\"  # Replace with the actual API URL\n",
    "    headers, rows = parse_json_response(url)\n",
    "    display_tabular_data(headers, rows)"
   ]
  },
  {
   "cell_type": "markdown",
   "metadata": {},
   "source": [
    "#### Step 4: Define the JSON response structure\n",
    "\n",
    "To make this exercise more meaningful, you should provide a sample JSON response with a specific structure. Replace the \"https://api.example.com/data\" URL in the main block with the actual URL that returns a JSON response in the desired structure."
   ]
  },
  {
   "cell_type": "code",
   "execution_count": null,
   "metadata": {},
   "outputs": [],
   "source": []
  }
 ],
 "metadata": {
  "language_info": {
   "name": "python"
  }
 },
 "nbformat": 4,
 "nbformat_minor": 2
}
