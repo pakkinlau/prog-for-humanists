{
 "cells": [
  {
   "cell_type": "markdown",
   "metadata": {},
   "source": [
    "## Importances of indexes\n",
    "\n",
    "Indexes play a crucial role in Series and DataFrames in pandas, a popular data manipulation library in Python. They provide labeled access to the data, enable alignment during operations, and facilitate efficient data retrieval. "
   ]
  },
  {
   "cell_type": "markdown",
   "metadata": {},
   "source": [
    "1. Labeled Access:\n",
    "Indexes allow you to access data in Series and DataFrames using labels instead of numerical positions. This makes the code more readable and less error-prone. Consider the following script:"
   ]
  },
  {
   "cell_type": "code",
   "execution_count": 2,
   "metadata": {},
   "outputs": [
    {
     "name": "stdout",
     "output_type": "stream",
     "text": [
      "nan\n",
      "nan\n"
     ]
    }
   ],
   "source": [
    "import pandas as pd\n",
    "\n",
    "# Create a Series with custom index\n",
    "data = {'A': 10, 'B': 20, 'C': 30}\n",
    "s = pd.Series(data, index=['X', 'Y', 'Z'])\n",
    "\n",
    "# Access data using labels\n",
    "print(s['X'])\n",
    "print(s['Y'])"
   ]
  },
  {
   "cell_type": "markdown",
   "metadata": {},
   "source": [
    "2. Alignment during operations:\n",
    "\n",
    "Indexes ensure alignment of data during operations. When performing operations on multiple Series or DataFrames, pandas aligns the data based on the index labels. Consider the following script:"
   ]
  },
  {
   "cell_type": "code",
   "execution_count": 3,
   "metadata": {},
   "outputs": [
    {
     "name": "stdout",
     "output_type": "stream",
     "text": [
      "W   NaN\n",
      "X   NaN\n",
      "Y   NaN\n",
      "Z   NaN\n",
      "dtype: float64\n"
     ]
    }
   ],
   "source": [
    "import pandas as pd\n",
    "\n",
    "# Create two Series with different indexes\n",
    "data1 = {'A': 10, 'B': 20, 'C': 30}\n",
    "s1 = pd.Series(data1, index=['X', 'Y', 'Z'])\n",
    "\n",
    "data2 = {'B': 40, 'C': 50, 'D': 60}\n",
    "s2 = pd.Series(data2, index=['Y', 'Z', 'W'])\n",
    "\n",
    "# Add the two Series\n",
    "s3 = s1 + s2\n",
    "\n",
    "# Resulting Series with aligned data\n",
    "print(s3)"
   ]
  },
  {
   "cell_type": "markdown",
   "metadata": {},
   "source": [
    "3. Efficient data retrieval:\n",
    "\n",
    "Indexes provide efficient data retrieval, especially when dealing with large datasets. They act as a lookup structure, allowing for quick access to specific rows based on their index labels. Consider the following script:"
   ]
  },
  {
   "cell_type": "code",
   "execution_count": 4,
   "metadata": {},
   "outputs": [
    {
     "name": "stdout",
     "output_type": "stream",
     "text": [
      "Name         Bob\n",
      "Age           30\n",
      "City    New York\n",
      "Name: ID002, dtype: object\n"
     ]
    }
   ],
   "source": [
    "import pandas as pd\n",
    "\n",
    "# Create a DataFrame with custom index\n",
    "data = {'Name': ['Alice', 'Bob', 'Charlie'],\n",
    "        'Age': [25, 30, 35],\n",
    "        'City': ['London', 'New York', 'Paris']}\n",
    "df = pd.DataFrame(data, index=['ID001', 'ID002', 'ID003'])\n",
    "\n",
    "# Retrieve row by index label\n",
    "row = df.loc['ID002']\n",
    "print(row)"
   ]
  }
 ],
 "metadata": {
  "kernelspec": {
   "display_name": "Python 3",
   "language": "python",
   "name": "python3"
  },
  "language_info": {
   "codemirror_mode": {
    "name": "ipython",
    "version": 3
   },
   "file_extension": ".py",
   "mimetype": "text/x-python",
   "name": "python",
   "nbconvert_exporter": "python",
   "pygments_lexer": "ipython3",
   "version": "3.10.0"
  }
 },
 "nbformat": 4,
 "nbformat_minor": 2
}
