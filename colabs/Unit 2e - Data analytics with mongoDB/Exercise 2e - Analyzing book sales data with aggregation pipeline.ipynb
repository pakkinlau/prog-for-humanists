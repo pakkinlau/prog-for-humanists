{
 "cells": [
  {
   "cell_type": "markdown",
   "metadata": {},
   "source": [
    "Sample dataset: "
   ]
  },
  {
   "cell_type": "code",
   "execution_count": null,
   "metadata": {},
   "outputs": [],
   "source": [
    "{\n",
    "  \"title\": \"The Great Gatsby\",\n",
    "  \"author\": \"F. Scott Fitzgerald\",\n",
    "  \"genre\": \"Fiction\",\n",
    "  \"publisher\": \"Scribner\",\n",
    "  \"year\": 1925,\n",
    "  \"sales\": [\n",
    "    {\n",
    "      \"year\": 2018,\n",
    "      \"quantity\": 100,\n",
    "      \"revenue\": 1000\n",
    "    },\n",
    "    {\n",
    "      \"year\": 2019,\n",
    "      \"quantity\": 150,\n",
    "      \"revenue\": 1500\n",
    "    },\n",
    "    {\n",
    "      \"year\": 2020,\n",
    "      \"quantity\": 200,\n",
    "      \"revenue\": 2000\n",
    "    }\n",
    "  ]\n",
    "}"
   ]
  },
  {
   "cell_type": "markdown",
   "metadata": {},
   "source": [
    "Project Tasks:\n",
    "1. Load the dataset into MongoDB.\n",
    "2. Write aggregation queries to perform the following tasks:\n",
    "   - Find the total quantity sold and revenue generated for each book.\n",
    "   - Find the best-selling book (highest quantity sold) for each year.\n",
    "   - Calculate the total revenue generated for all books by year.\n",
    "   - Find the average quantity sold per year for each genre.\n",
    "   - Determine the top publishers based on the total revenue of their books.\n",
    "3. Visualize the results using appropriate charts or graphs."
   ]
  }
 ],
 "metadata": {
  "language_info": {
   "name": "python"
  }
 },
 "nbformat": 4,
 "nbformat_minor": 2
}
