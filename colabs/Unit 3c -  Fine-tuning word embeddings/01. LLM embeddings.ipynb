{
 "cells": [
  {
   "cell_type": "code",
   "execution_count": null,
   "metadata": {},
   "outputs": [],
   "source": [
    "!pip install sentence_transformers"
   ]
  },
  {
   "cell_type": "code",
   "execution_count": null,
   "metadata": {},
   "outputs": [],
   "source": [
    "# Import necessary libraries\n",
    "from sentence_transformers import SentenceTransformer\n",
    "from sklearn.metrics.pairwise import cosine_similarity\n",
    "\n",
    "# Instantiate the model\n",
    "model = SentenceTransformer('all-MiniLM-L6-v2')\n",
    "\n",
    "# Define your sentences\n",
    "sentences = [\n",
    "    \"This is the first sentence.\",\n",
    "    \"This is a similar sentence.\",\n",
    "    \"This is a completely different sentence.\"\n",
    "]\n",
    "\n",
    "# Compute sentence embeddings\n",
    "embeddings = model.encode(sentences)\n",
    "\n",
    "# Compute similarity scores of the first sentence with others\n",
    "similarity_scores = cosine_similarity(\n",
    "    [embeddings[0]],  # the first sentence\n",
    "    embeddings[1:]  # the other sentences\n",
    ")\n",
    "\n",
    "for i, sentence in enumerate(sentences[1:], start=1):\n",
    "    print(f\"Similarity of '{sentences[0]}' with '{sentence}': {similarity_scores[0][i-1]}\")"
   ]
  }
 ],
 "metadata": {
  "language_info": {
   "name": "python"
  }
 },
 "nbformat": 4,
 "nbformat_minor": 2
}
