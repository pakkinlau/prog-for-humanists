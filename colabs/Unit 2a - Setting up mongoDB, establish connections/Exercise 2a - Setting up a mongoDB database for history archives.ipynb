{
 "cells": [
  {
   "cell_type": "markdown",
   "metadata": {},
   "source": [
    "## Task 1: Install MongoDB and required extension\n",
    "\n",
    "Refer to 01.ipynb"
   ]
  },
  {
   "cell_type": "code",
   "execution_count": null,
   "metadata": {},
   "outputs": [],
   "source": []
  },
  {
   "cell_type": "markdown",
   "metadata": {},
   "source": [
    "## Task 2: Ensure VS code is connected to the server"
   ]
  },
  {
   "cell_type": "markdown",
   "metadata": {},
   "source": [
    "## Task 3: Create database and collection\n",
    "\n",
    "- Import the `pymongo` library.\n",
    "Establish a connection to the MongoDB server."
   ]
  },
  {
   "cell_type": "markdown",
   "metadata": {},
   "source": [
    "## Task 4: Import data into collection\n",
    "\n",
    "- Create a new database called `history_archives`.\n",
    "- In the `history_archives` database, create a collection named `events`."
   ]
  },
  {
   "cell_type": "markdown",
   "metadata": {},
   "source": [
    "## Task 5: Query the database\n",
    "\n",
    "- Perform some basic queries to verify the data:\n",
    "- Find all documents related to a specific location.\n",
    "- Count the number of documents in the collection."
   ]
  },
  {
   "cell_type": "markdown",
   "metadata": {},
   "source": [
    "## Task 6：Clean Up\n",
    "\n",
    "- Practice deleting documents, updating documents, and dropping the collection if desired."
   ]
  }
 ],
 "metadata": {
  "language_info": {
   "name": "python"
  }
 },
 "nbformat": 4,
 "nbformat_minor": 2
}
