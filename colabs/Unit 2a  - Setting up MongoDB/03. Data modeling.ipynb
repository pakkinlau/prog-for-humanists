{
 "cells": [
  {
   "cell_type": "markdown",
   "metadata": {},
   "source": [
    "## Data modeling "
   ]
  },
  {
   "cell_type": "code",
   "execution_count": 1,
   "metadata": {
    "vscode": {
     "languageId": "javascript"
    }
   },
   "outputs": [
    {
     "data": {
      "image/jpeg": "[encoded data removed]",
      "text/html": [
       "\n",
       "        <iframe\n",
       "            width=\"400\"\n",
       "            height=\"300\"\n",
       "            src=\"https://www.youtube.com/embed/3GHZd0zv170\"\n",
       "            frameborder=\"0\"\n",
       "            allowfullscreen\n",
       "            \n",
       "        ></iframe>\n",
       "        "
      ],
      "text/plain": [
       "<IPython.lib.display.YouTubeVideo at 0x21a3eb50b20>"
      ]
     },
     "metadata": {},
     "output_type": "display_data"
    }
   ],
   "source": [
    "from IPython.display import YouTubeVideo, display\n",
    "\n",
    "video_id = '3GHZd0zv170'\n",
    "video = YouTubeVideo(video_id)\n",
    "display(video)\n",
    "\n",
    "# Link: https://www.youtube.com/watch?v=bBA9rUdqmgY\n"
   ]
  },
  {
   "cell_type": "markdown",
   "metadata": {},
   "source": [
    "- types of data relationship\n",
    "\t- 1-to-1\n",
    "\t\t- `\"title\": \"stars wars\",`\n",
    "\t- 1-to-n\n",
    "\t\t- `\"cast\": [{\"actor\": \"asdasd\", \"character\": \"asdas\"}, ...]`\n",
    "\t- m-to-n\n",
    "\t\t- embedding: tale related data and insert it into our document\n",
    "\t\t- referencing: refer to documents in another collection in our document"
   ]
  },
  {
   "cell_type": "code",
   "execution_count": null,
   "metadata": {
    "vscode": {
     "languageId": "javascript"
    }
   },
   "outputs": [],
   "source": [
    "// 1-to-1 relationship\n",
    "\n",
    "{\n",
    "    \"_id\": 1,\n",
    "    \"title\": \"Star Wars\",\n",
    "    \"director\": {\n",
    "        \"name\": \"George Lucas\",\n",
    "        \"birthDate\": \"May 14, 1944\"\n",
    "    }\n",
    "}\n",
    "\n",
    "// 1-to-many relationship\n",
    "\n",
    "{\n",
    "    \"_id\": 1,\n",
    "    \"title\": \"Star Wars\",\n",
    "    \"cast\": [\n",
    "        {\n",
    "            \"actor\": \"Mark Hamill\",\n",
    "            \"character\": \"Luke Skywalker\"\n",
    "        },\n",
    "        {\n",
    "            \"actor\": \"Carrie Fisher\",\n",
    "            \"character\": \"Princess Leia\"\n",
    "        },\n",
    "        // ... other cast members\n",
    "    ]\n",
    "}\n"
   ]
  },
  {
   "cell_type": "markdown",
   "metadata": {},
   "source": [
    "## m-to-n relationship: embeddings and referencings\n",
    "\n",
    "- embedding data in document\n",
    "\t- also known as \"nested documents\"\n",
    "\t\t- often relationship types - 1-to-N, M-to-N\n",
    "\t- advantages\n",
    "\t\t- embedding simplifies queries:\n",
    "\t\t\t- as it avoid application \"joins (refer to relational database joins)\"\n",
    "\t\t- provide better performance for read operations\n",
    "\t\t\t- enable you to store all kinds of related information in a single document\n",
    "\t- warning:\n",
    "\t\t- embedding data into a single document can create large documents, which can lead to excessive memory and add latency for reads\n",
    "\t\t- \"unbounded document\" -- exceeding the BSON document threshold of 16MB.\n",
    "\n",
    "- referencing data in documents\n",
    "\t- also called 'linking' or 'data normalization'\n",
    "\t- when we store data in two different collections, but also ensure 2 collections are related, we can use references. \n",
    "\t- it saves `_id` field of one document in another document as a link between the two\n",
    "\t- simple and sufficient for most use cases\n",
    "\t- advantages\n",
    "\t\t- no duplication of data\n",
    "\t\t- smaller documents\n",
    "\t- limitation\n",
    "\t\t- you need query multiple documents, cost extra resources and impacts read performance"
   ]
  },
  {
   "cell_type": "code",
   "execution_count": null,
   "metadata": {
    "vscode": {
     "languageId": "javascript"
    }
   },
   "outputs": [],
   "source": [
    "// embedding\n",
    "\n",
    "{\n",
    "    \"_id\": 1,\n",
    "    \"title\": \"Star Wars\",\n",
    "    \"relatedTales\": [\n",
    "        {\n",
    "            \"title\": \"The Empire Strikes Back\",\n",
    "            \"year\": 1980\n",
    "        },\n",
    "        {\n",
    "            \"title\": \"Return of the Jedi\",\n",
    "            \"year\": 1983\n",
    "        }\n",
    "        // ... other related tales\n",
    "    ]\n",
    "}\n",
    "\n"
   ]
  },
  {
   "cell_type": "code",
   "execution_count": null,
   "metadata": {
    "vscode": {
     "languageId": "javascript"
    }
   },
   "outputs": [],
   "source": [
    "// referencing\n",
    "\n",
    "// Movie Collection Document\n",
    "{\n",
    "    \"_id\": 1,\n",
    "    \"title\": \"Star Wars\",\n",
    "    \"relatedTales\": [\n",
    "        ObjectId(\"taleId1\"),\n",
    "        ObjectId(\"taleId2\")\n",
    "        // ... other related tale ObjectIds\n",
    "    ]\n",
    "}\n",
    "\n",
    "// Tale Collection Document\n",
    "{\n",
    "    \"_id\": ObjectId(\"taleId1\"),\n",
    "    \"title\": \"The Empire Strikes Back\",\n",
    "    \"year\": 1980\n",
    "}\n",
    "\n",
    "{\n",
    "    \"_id\": ObjectId(\"taleId2\"),\n",
    "    \"title\": \"Return of the Jedi\",\n",
    "    \"year\": 1983\n",
    "}\n"
   ]
  }
 ],
 "metadata": {
  "kernelspec": {
   "display_name": "Python 3",
   "language": "python",
   "name": "python3"
  },
  "language_info": {
   "codemirror_mode": {
    "name": "ipython",
    "version": 3
   },
   "file_extension": ".py",
   "mimetype": "text/x-python",
   "name": "python",
   "nbconvert_exporter": "python",
   "pygments_lexer": "ipython3",
   "version": "3.10.0"
  }
 },
 "nbformat": 4,
 "nbformat_minor": 2
}
