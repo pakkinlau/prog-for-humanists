{
 "cells": [
  {
   "cell_type": "markdown",
   "metadata": {},
   "source": [
    "# 1. Object-oriented programming: Example"
   ]
  },
  {
   "cell_type": "code",
   "execution_count": 2,
   "metadata": {},
   "outputs": [
    {
     "name": "stdout",
     "output_type": "stream",
     "text": [
      "Public Variable (Before): 20\n",
      "Public Variable (After): 30\n"
     ]
    }
   ],
   "source": [
    "\"\"\"\n",
    "Class Definition\n",
    "\n",
    "When analyzing the functionality of a script, it's common to overlook the intricacies of individual classes. \n",
    "However, it's crucial that the naming of classes, methods, and attributes clearly conveys their meaning and purpose.\n",
    "\"\"\"\n",
    "\n",
    "class EncapsulatedClass:\n",
    "    def __init__(self):\n",
    "        self.public_variable = 20     # Public variable\n",
    "\n",
    "    def set_public_variable(self, value):\n",
    "        self.public_variable = value\n",
    "\n",
    "    def get_public_variable(self):\n",
    "        return self.public_variable\n",
    "\n",
    "\"\"\"\n",
    "The actual implementation details are hidden within this class definition, allowing users to interact with the \n",
    "functionality without needing to understand the internal workings.\n",
    "\"\"\"\n",
    "obj = EncapsulatedClass()\n",
    "print(\"Public Variable (Before):\", obj.get_public_variable())  # Output: Public Variable (Before): 20\n",
    "obj.set_public_variable(30)\n",
    "print(\"Public Variable (After):\", obj.get_public_variable())   # Output: Public Variable (After): 30"
   ]
  },
  {
   "cell_type": "markdown",
   "metadata": {},
   "source": [
    "## 2. Utilizing Iterators and Control Flows for Repeating Actions\n",
    "\n",
    "Copying and pasting the same function implementation repeatedly is not efficient. Instead, we can leverage iterators to store inputs and outputs of processes, and employ control flow mechanisms to iterate actions seamlessly. \n",
    "\n",
    "Here is an example: \n"
   ]
  },
  {
   "cell_type": "code",
   "execution_count": 1,
   "metadata": {},
   "outputs": [
    {
     "name": "stdout",
     "output_type": "stream",
     "text": [
      "Alice is in the prime of life.\n",
      "Bob is in the prime of life.\n",
      "Charlie is a young person.\n",
      "David is an experienced individual.\n",
      "Eva is in the prime of life.\n"
     ]
    }
   ],
   "source": [
    "# Sample list of names\n",
    "names = [\"Alice\", \"Bob\", \"Charlie\", \"David\", \"Eva\"]\n",
    "\n",
    "# Sample dictionary with ages\n",
    "ages = {\n",
    "    \"Alice\": 25,\n",
    "    \"Bob\": 30,\n",
    "    \"Charlie\": 22,\n",
    "    \"David\": 35,\n",
    "    \"Eva\": 28\n",
    "}\n",
    "\n",
    "# Iterate through the list of names\n",
    "for name in names:\n",
    "    # Check if the name is in the dictionary\n",
    "    if name in ages:\n",
    "        age = ages[name]\n",
    "        # Determine the message based on age\n",
    "        if age < 25:\n",
    "            message = \" is a young person.\"\n",
    "        elif age >= 25 and age < 35:\n",
    "            message = \" is in the prime of life.\"\n",
    "        else:\n",
    "            message = \" is an experienced individual.\"\n",
    "        # Print the message\n",
    "        print(name + message)\n",
    "    else:\n",
    "        # If name is not found in the dictionary, print a different message\n",
    "        print(name + \" is not in the age dictionary.\")\n"
   ]
  },
  {
   "cell_type": "markdown",
   "metadata": {},
   "source": [
    "## 3. Error Handling\n",
    "\n",
    "When scaling up our processes, such as iterating the same operation across 1000 elements, it becomes challenging to prevent exceptions from occurring in some cases. To address this issue, we implement error handling blocks to manage these exceptions effectively. Below is an example illustrating how to handle exceptions in our processes:\n"
   ]
  },
  {
   "cell_type": "code",
   "execution_count": null,
   "metadata": {},
   "outputs": [],
   "source": [
    "# Sample data for demonstration\n",
    "data = [1, 2, 0, 4, 5, 0, 7]\n",
    "\n",
    "# Lists to store results and problematic items\n",
    "reciprocals = []\n",
    "problematic_items = []\n",
    "\n",
    "# Function to calculate reciprocal with error handling\n",
    "def calculate_reciprocal(number):\n",
    "    try:\n",
    "        reciprocal = 1 / number\n",
    "        reciprocals.append(reciprocal)\n",
    "    except ZeroDivisionError:\n",
    "        print(f\"Error: Division by zero occurred for item {number}\")\n",
    "        problematic_items.append(number)\n",
    "    except Exception as e:\n",
    "        print(f\"Error: {e} occurred for item {number}\")\n",
    "        problematic_items.append(number)\n",
    "\n",
    "# Iterate over the data and calculate reciprocals with error handling\n",
    "for item in data:\n",
    "    calculate_reciprocal(item)\n",
    "\n",
    "# Output the results and problematic items\n",
    "print(\"Reciprocals:\", reciprocals)\n",
    "print(\"Problematic Items:\", problematic_items)\n"
   ]
  }
 ],
 "metadata": {
  "kernelspec": {
   "display_name": "Python 3",
   "language": "python",
   "name": "python3"
  },
  "language_info": {
   "codemirror_mode": {
    "name": "ipython",
    "version": 3
   },
   "file_extension": ".py",
   "mimetype": "text/x-python",
   "name": "python",
   "nbconvert_exporter": "python",
   "pygments_lexer": "ipython3",
   "version": "3.10.12"
  }
 },
 "nbformat": 4,
 "nbformat_minor": 2
}
