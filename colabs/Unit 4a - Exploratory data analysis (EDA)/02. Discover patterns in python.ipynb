{
 "cells": [
  {
   "cell_type": "code",
   "execution_count": null,
   "metadata": {},
   "outputs": [],
   "source": [
    "# Import necessary libraries\n",
    "import pandas as pd\n",
    "import seaborn as sns\n",
    "import matplotlib.pyplot as plt"
   ]
  },
  {
   "cell_type": "markdown",
   "metadata": {},
   "source": [
    "## Showing variable relationships with 2D charts "
   ]
  },
  {
   "cell_type": "code",
   "execution_count": null,
   "metadata": {},
   "outputs": [],
   "source": [
    "# Load data\n",
    "divorce = pd.read_csv(\"divorce.csv\")\n",
    "\n",
    "# Convert the marriage_date to DateTime format\n",
    "divorce[\"marriage_date\"] = pd.to_datetime(divorce[\"marriage_date\"])\n",
    "\n",
    "# Extract the month from the marriage date\n",
    "divorce[\"marriage_month\"] = divorce[\"marriage_date\"].dt.month\n",
    "\n",
    "# Show the divorce rate over time\n",
    "plt.figure(figsize=(10, 6)) # increase the size of the plot for better visibility\n",
    "sns.lineplot(data=divorce, x=\"marriage_month\", y=\"marriage_duration\")\n",
    "plt.title('Divorce rate over time') # add title to the plot\n",
    "plt.xlabel('Marriage Month') # add label to x-axis\n",
    "plt.ylabel('Marriage Duration') # add label to y-axis\n",
    "plt.show()"
   ]
  },
  {
   "cell_type": "markdown",
   "metadata": {},
   "source": [
    "## Showing correlation"
   ]
  },
  {
   "cell_type": "code",
   "execution_count": 1,
   "metadata": {},
   "outputs": [
    {
     "ename": "NameError",
     "evalue": "name 'divorce' is not defined",
     "output_type": "error",
     "traceback": [
      "\u001b[1;31m---------------------------------------------------------------------------\u001b[0m",
      "\u001b[1;31mNameError\u001b[0m                                 Traceback (most recent call last)",
      "\u001b[1;32mc:\\Users\\kinla\\Documents\\All_github_repo\\prog-for-humanists\\colabs\\Unit 4a - Exploratory data analysis (EDA)\\02. Patterns.ipynb Cell 4\u001b[0m line \u001b[0;36m1\n\u001b[1;32m----> <a href='vscode-notebook-cell:/c%3A/Users/kinla/Documents/All_github_repo/prog-for-humanists/colabs/Unit%204a%20-%20Exploratory%20data%20analysis%20%28EDA%29/02.%20Patterns.ipynb#W3sZmlsZQ%3D%3D?line=0'>1</a>\u001b[0m divorce\u001b[39m.\u001b[39mcorr()\n\u001b[0;32m      <a href='vscode-notebook-cell:/c%3A/Users/kinla/Documents/All_github_repo/prog-for-humanists/colabs/Unit%204a%20-%20Exploratory%20data%20analysis%20%28EDA%29/02.%20Patterns.ipynb#W3sZmlsZQ%3D%3D?line=1'>2</a>\u001b[0m sns\u001b[39m.\u001b[39mheatmap(divorce\u001b[39m.\u001b[39mcorr(), annot\u001b[39m=\u001b[39m\u001b[39mTrue\u001b[39;00m)\n\u001b[0;32m      <a href='vscode-notebook-cell:/c%3A/Users/kinla/Documents/All_github_repo/prog-for-humanists/colabs/Unit%204a%20-%20Exploratory%20data%20analysis%20%28EDA%29/02.%20Patterns.ipynb#W3sZmlsZQ%3D%3D?line=2'>3</a>\u001b[0m plt\u001b[39m.\u001b[39mshow()\n",
      "\u001b[1;31mNameError\u001b[0m: name 'divorce' is not defined"
     ]
    }
   ],
   "source": [
    "# Compute the correlation matrix\n",
    "correlation_matrix = divorce.corr()\n",
    "\n",
    "# Use seaborn to create a heatmap representation of the correlation matrix\n",
    "plt.figure(figsize=(10, 8)) # increase the size of the plot for better visibility\n",
    "sns.heatmap(correlation_matrix, annot=True)\n",
    "plt.title('Correlation Matrix') # add title to the plot\n",
    "plt.show()\n"
   ]
  },
  {
   "cell_type": "code",
   "execution_count": null,
   "metadata": {},
   "outputs": [],
   "source": [
    "# pairplots \n",
    "sns.pairplot(data=divorce)\n",
    "plt.show()\n"
   ]
  },
  {
   "cell_type": "markdown",
   "metadata": {},
   "source": [
    "## Factor relationships and distributions"
   ]
  },
  {
   "cell_type": "code",
   "execution_count": null,
   "metadata": {},
   "outputs": [],
   "source": [
    "# Display the count of unique values in education_man\n",
    "print(divorce[\"education_man\"].value_counts())\n",
    "\n",
    "# Create a histogram to visualize the distribution of marriage duration for different education levels\n",
    "sns.histplot(data=divorce, x=\"marriage_duration\", hue=\"education_man\", binwidth=1)\n",
    "plt.title('Marriage Duration for Different Education Levels') # add title to the plot\n",
    "plt.show()"
   ]
  },
  {
   "cell_type": "markdown",
   "metadata": {},
   "source": [
    "## KDE plots\n",
    "\n",
    "Create a KDE plot to visualize the distribution of marriage duration for different education levels"
   ]
  },
  {
   "cell_type": "code",
   "execution_count": null,
   "metadata": {},
   "outputs": [],
   "source": [
    "sns.kdeplot(data=divorce, x=\"marriage_duration\", hue=\"education_man\")\n",
    "plt.title('Marriage Duration Distribution for Different Education Levels') # add title to the plot\n",
    "plt.show()"
   ]
  },
  {
   "cell_type": "markdown",
   "metadata": {},
   "source": [
    "Create a scatter plot to visualize the relationship between man and woman age at marriage"
   ]
  },
  {
   "cell_type": "code",
   "execution_count": null,
   "metadata": {},
   "outputs": [],
   "source": [
    "# relationship between  marriage age and education\n",
    "\n",
    "divorce[\"man_age_marriage\"] = divorce[\"marriage_year\"] - divorce[\"dob_man\"].dt.year\n",
    "divorce[\"woman_age_marriage\"] = divorce[\"marriage_year\"] - divorce[\"dob_woman\"].dt.year\n",
    "\n",
    "sns.scatterplot(data=divorce, x=\"woman_age_marriage\", y=\"man_age_marriage\")\n",
    "plt.show()\n",
    "\n"
   ]
  },
  {
   "cell_type": "markdown",
   "metadata": {},
   "source": [
    "Create a scatter plot to visualize the relationship between man and woman age at marriage, colored by the man's education"
   ]
  },
  {
   "cell_type": "code",
   "execution_count": null,
   "metadata": {},
   "outputs": [],
   "source": [
    "sns.scatterplot(data=divorce, x=\"woman_age_marriage\", y=\"man_age_marriage\", hue=\"education_man\")\n",
    "plt.title('Age Relationship at Marriage colored by Man\\'s Education') # add title to the plot\n",
    "plt.show()"
   ]
  }
 ],
 "metadata": {
  "kernelspec": {
   "display_name": "Python 3",
   "language": "python",
   "name": "python3"
  },
  "language_info": {
   "codemirror_mode": {
    "name": "ipython",
    "version": 3
   },
   "file_extension": ".py",
   "mimetype": "text/x-python",
   "name": "python",
   "nbconvert_exporter": "python",
   "pygments_lexer": "ipython3",
   "version": "3.10.0"
  }
 },
 "nbformat": 4,
 "nbformat_minor": 2
}
