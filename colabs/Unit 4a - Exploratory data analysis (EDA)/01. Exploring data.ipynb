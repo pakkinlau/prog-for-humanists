{
 "cells": [
  {
   "cell_type": "code",
   "execution_count": null,
   "metadata": {},
   "outputs": [],
   "source": [
    "import pandas as pd\n",
    "import numpy as np"
   ]
  },
  {
   "cell_type": "markdown",
   "metadata": {},
   "source": [
    "## Initial exploration\n",
    "\n",
    "- `df.head()`\n",
    "- `df.info()`\n",
    "- `df.value_counts(\"colA\")`\n",
    "- `df.describe()`"
   ]
  },
  {
   "cell_type": "code",
   "execution_count": null,
   "metadata": {},
   "outputs": [],
   "source": [
    "# Returns the first 5 rows of the DataFrame\n",
    "df.head()\n",
    "\n",
    "# Provides a summary of the DataFrame including the number of non-null entries in each column\n",
    "df.info()\n",
    "\n",
    "# Returns the count of unique values in the specified column \"colA\"\n",
    "df[\"colA\"].value_counts()\n",
    "\n",
    "# Provides statistical summary of the DataFrame like mean, median, standard deviation etc.\n",
    "df.describe()"
   ]
  },
  {
   "cell_type": "markdown",
   "metadata": {},
   "source": [
    "## Data validation \n",
    "\n",
    "- Detecting data types: `df.dtypes`, `df.info()`\n",
    "- Validating ranges : `df[\"colA\"].min()`,  `df[\"colA\"].max()`\n",
    "- Updating data types: `df[\"year\"] = df[\"year\"].astype(int)`\n",
    "- Validating categorical data: `df[\"genre\"].isin(\"Fiction\",\"Non Fiction\")`\n"
   ]
  },
  {
   "cell_type": "code",
   "execution_count": null,
   "metadata": {},
   "outputs": [],
   "source": [
    "# Returns the data types of each column in the DataFrame\n",
    "df.dtypes\n",
    "\n",
    "# Returns the smallest value in the column \"colA\"\n",
    "df[\"colA\"].min()\n",
    "\n",
    "# Returns the largest value in the column \"colA\"\n",
    "df[\"colA\"].max()\n",
    "\n",
    "# Changes the data type of the \"year\" column to int\n",
    "df[\"year\"] = df[\"year\"].astype(int)\n",
    "\n",
    "# Checks if every value in the \"genre\" column is either \"Fiction\" or \"Non Fiction\"\n",
    "df[\"genre\"].isin([\"Fiction\", \"Non Fiction\"]).all()"
   ]
  },
  {
   "cell_type": "markdown",
   "metadata": {},
   "source": [
    "Data Summarization\n",
    "Pandas provides several methods to summarize our data.\n",
    "\n",
    "- `.groupby()`\n",
    "- `.sum()`\n",
    "- `.count()`\n",
    "- `.min()`\n",
    "- `.max()`\n",
    "- `.var()`\n",
    "- `.std()`"
   ]
  },
  {
   "cell_type": "code",
   "execution_count": null,
   "metadata": {},
   "outputs": [],
   "source": [
    "# Sums up the values in each column grouped by \"genre\"\n",
    "df.groupby(\"genre\").sum()\n",
    "\n",
    "# Counts the number of values in each column grouped by \"genre\"\n",
    "df.groupby(\"genre\").count()\n",
    "\n",
    "# Returns the smallest value in each column grouped by \"genre\"\n",
    "df.groupby(\"genre\").min()\n",
    "\n",
    "# Returns the largest value in each column grouped by \"genre\"\n",
    "df.groupby(\"genre\").max()\n",
    "\n",
    "# Returns the variance in each column grouped by \"genre\"\n",
    "df.groupby(\"genre\").var()\n",
    "\n",
    "# Returns the standard deviation in each column grouped by \"genre\"\n",
    "df.groupby(\"genre\").std()"
   ]
  },
  {
   "cell_type": "markdown",
   "metadata": {},
   "source": [
    "## Aggregating Ungrouped Data\n",
    "- `agg()` function is used to apply one or more aggregating functions across one or more DataFrame columns."
   ]
  },
  {
   "cell_type": "code",
   "execution_count": null,
   "metadata": {},
   "outputs": [],
   "source": [
    "df.agg([\"sum\", \"min\", \"max\", \"mean\", \"std\"])"
   ]
  },
  {
   "cell_type": "markdown",
   "metadata": {},
   "source": [
    "## Aggregating Grouped Data\n",
    "\n",
    "We can use agg() to apply multiple different functions to the grouped data."
   ]
  },
  {
   "cell_type": "code",
   "execution_count": null,
   "metadata": {},
   "outputs": [],
   "source": [
    "df.groupby(\"genre\").agg(mean_rating=(\"rating\", \"mean\"),\n",
    "                        std_rating=(\"rating\", \"std\"),\n",
    "                        median_year=(\"year\", \"median\"))"
   ]
  }
 ],
 "metadata": {
  "language_info": {
   "name": "python"
  }
 },
 "nbformat": 4,
 "nbformat_minor": 2
}
