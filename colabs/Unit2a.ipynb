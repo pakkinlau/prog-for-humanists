{
 "cells": [
  {
   "cell_type": "markdown",
   "metadata": {},
   "source": [
    "<h2><center>THE CHINESE UNIVERSITY OF HONG KONG<br />\n",
    "    Department of History<br />\n",
    " HIST47XX<br />\n",
    "    Programming For Humanists</center></h2>\n",
    "\n",
    "# Unit 2a<a id='top'></a>\n",
    "\n",
    "\n",
    "\n",
    "\n",
    "\n",
    "\n",
    "\n",
    "\n",
    "- <a href='#section1'>Section 1 - Online database of humanity text corpus </a>\n",
    "- <a href='#section2'>Section 2 - Introduction to Natural lanugage processing</a>\n",
    "- <a href='#section3'>Section 3 - Hands-on API access and text analysis</a>\n",
    "- <a href='#section4'>Section 4 - Storing data on local folders with programming script</a>\n",
    "- <a href='#reference'>Reference</a>"
   ]
  },
  {
   "cell_type": "markdown",
   "metadata": {},
   "source": [
    "Basic structure of obtaining data from MongoDB database:"
   ]
  },
  {
   "cell_type": "code",
   "execution_count": null,
   "metadata": {},
   "outputs": [],
   "source": [
    "!pip install pymongo"
   ]
  },
  {
   "cell_type": "code",
   "execution_count": null,
   "metadata": {},
   "outputs": [],
   "source": [
    "# Import the necessary libraries\n",
    "from pymongo import MongoClient\n",
    "\n",
    "# Connect to MongoDB (assuming it's running locally on the default port)\n",
    "client = MongoClient('localhost', 27017)\n",
    "\n",
    "# Access the database and collection\n",
    "db = client['mydatabase']\n",
    "collection = db['mycollection']\n",
    "\n",
    "# Query the collection to retrieve data\n",
    "# For example, let's say you want to retrieve all documents where 'field_name' equals 'some_value'\n",
    "query = {'field_name': 'some_value'}\n",
    "\n",
    "# Retrieve the data from the collection\n",
    "data = list(collection.find(query))\n",
    "\n",
    "# Now, 'data' contains the documents that match the query\n",
    "# You can use this data for your machine learning project\n",
    "print(data)\n",
    "\n",
    "# Don't forget to close the MongoDB connection when you're done\n",
    "client.close()\n"
   ]
  }
 ],
 "metadata": {
  "language_info": {
   "name": "python"
  },
  "orig_nbformat": 4
 },
 "nbformat": 4,
 "nbformat_minor": 2
}
