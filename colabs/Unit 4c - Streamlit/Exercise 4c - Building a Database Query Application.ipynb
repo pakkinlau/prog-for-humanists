{
 "cells": [
  {
   "cell_type": "code",
   "execution_count": null,
   "metadata": {},
   "outputs": [],
   "source": [
    "# reference: https://python-textbook.pythonhumanities.com/05_streamlit/05_03_02_database_query_app.html"
   ]
  }
 ],
 "metadata": {
  "language_info": {
   "name": "python"
  }
 },
 "nbformat": 4,
 "nbformat_minor": 2
}
