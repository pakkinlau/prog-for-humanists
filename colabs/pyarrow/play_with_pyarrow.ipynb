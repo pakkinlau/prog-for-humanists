{
 "cells": [
  {
   "cell_type": "code",
   "execution_count": 2,
   "metadata": {},
   "outputs": [
    {
     "name": "stdout",
     "output_type": "stream",
     "text": [
      "pyarrow.Table\n",
      "name: string\n",
      "age: int32\n",
      "----\n",
      "name: [[\"Alice\",\"Bob\",\"Charlie\",\"David\"]]\n",
      "age: [[25,31,46,19]]\n"
     ]
    }
   ],
   "source": [
    "import pyarrow as pa\n",
    "import pyarrow.compute as pc\n",
    "\n",
    "# Here is our data\n",
    "names = ['Alice', 'Bob', 'Charlie', 'David']\n",
    "ages = [25, 31, 46, 19]\n",
    "\n",
    "# Create a PyArrow schema for the table\n",
    "schema = pa.schema([\n",
    "    ('name', pa.string()),\n",
    "    ('age', pa.int32())\n",
    "])\n",
    "\n",
    "# Create a PyArrow array for each column\n",
    "name_array = pa.array(names)\n",
    "age_array = pa.array(ages)\n",
    "\n",
    "# Create a PyArrow table from the arrays and schema\n",
    "table = pa.Table.from_arrays([name_array, age_array], schema=schema)\n",
    "\n",
    "print(table)"
   ]
  },
  {
   "cell_type": "code",
   "execution_count": 3,
   "metadata": {},
   "outputs": [
    {
     "name": "stdout",
     "output_type": "stream",
     "text": [
      "Sum of ages: 121\n",
      "Maximum age: 46\n"
     ]
    }
   ],
   "source": [
    "# Use PyArrow compute functions on the table\n",
    "\n",
    "# Compute the sum of the age column\n",
    "age_sum = pc.sum(table['age'])\n",
    "print(f\"Sum of ages: {age_sum}\")\n",
    "\n",
    "# Compute the maximum age in the table\n",
    "age_max = pc.max(table['age'])\n",
    "print(f\"Maximum age: {age_max}\")\n",
    "\n",
    "# Filter the table to only include rows where age is greater than 25\n",
    "condition = pc.greater(table['age'], 25)\n",
    "filtered_table = table.filter(condition)"
   ]
  }
 ],
 "metadata": {
  "kernelspec": {
   "display_name": "Python 3",
   "language": "python",
   "name": "python3"
  },
  "language_info": {
   "codemirror_mode": {
    "name": "ipython",
    "version": 3
   },
   "file_extension": ".py",
   "mimetype": "text/x-python",
   "name": "python",
   "nbconvert_exporter": "python",
   "pygments_lexer": "ipython3",
   "version": "3.10.0"
  }
 },
 "nbformat": 4,
 "nbformat_minor": 2
}
