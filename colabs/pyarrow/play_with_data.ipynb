{
 "cells": [
  {
   "cell_type": "markdown",
   "metadata": {},
   "source": [
    "## Download dataset"
   ]
  },
  {
   "cell_type": "code",
   "execution_count": 1,
   "metadata": {},
   "outputs": [
    {
     "name": "stdout",
     "output_type": "stream",
     "text": [
      "DatasetDict({\n",
      "    train: Dataset({\n",
      "        features: ['title', 'author', 'text', 'language'],\n",
      "        num_rows: 2951\n",
      "    })\n",
      "})\n"
     ]
    },
    {
     "data": {
      "application/vnd.jupyter.widget-view+json": {
       "model_id": "2b906ca6420b466eae53319d5256c05d",
       "version_major": 2,
       "version_minor": 0
      },
      "text/plain": [
       "Saving the dataset (0/2 shards):   0%|          | 0/2951 [00:00<?, ? examples/s]"
      ]
     },
     "metadata": {},
     "output_type": "display_data"
    }
   ],
   "source": [
    "import datasets\n",
    "\n",
    "dataset_id = \"alturing/gutenberg-texts\"\n",
    "\n",
    "# Load the dataset by name\n",
    "dataset = datasets.load_dataset(dataset_id)\n",
    "\n",
    "# Download the dataset files\n",
    "print(dataset)\n",
    "\n",
    "\"\"\" \n",
    "DatasetDict({\n",
    "    train: Dataset({\n",
    "        features: ['title', 'author', 'text', 'language'],\n",
    "        num_rows: 2951\n",
    "    })\n",
    "})\n",
    "\n",
    "\"\"\"\n",
    "\n",
    "# Save the dataset to a local folder\n",
    "local_folder_path = r\"C:\\Users\\kinla\\Documents\\All_github_repo\\datasets\\gutenberg\"\n",
    "dataset.save_to_disk(local_folder_path)\n"
   ]
  },
  {
   "cell_type": "markdown",
   "metadata": {},
   "source": [
    "## Open PyArrow files"
   ]
  },
  {
   "cell_type": "code",
   "execution_count": 9,
   "metadata": {},
   "outputs": [
    {
     "ename": "ArrowInvalid",
     "evalue": "Not an Arrow file",
     "output_type": "error",
     "traceback": [
      "\u001b[1;31m---------------------------------------------------------------------------\u001b[0m",
      "\u001b[1;31mArrowInvalid\u001b[0m                              Traceback (most recent call last)",
      "\u001b[1;32mc:\\Users\\kinla\\Documents\\All_github_repo\\prog-for-humanists\\colabs\\play_with_data.ipynb Cell 4\u001b[0m line \u001b[0;36m1\n\u001b[0;32m     <a href='vscode-notebook-cell:/c%3A/Users/kinla/Documents/All_github_repo/prog-for-humanists/colabs/play_with_data.ipynb#W1sZmlsZQ%3D%3D?line=11'>12</a>\u001b[0m \u001b[39mfor\u001b[39;00m file \u001b[39min\u001b[39;00m arrow_files:\n\u001b[0;32m     <a href='vscode-notebook-cell:/c%3A/Users/kinla/Documents/All_github_repo/prog-for-humanists/colabs/play_with_data.ipynb#W1sZmlsZQ%3D%3D?line=12'>13</a>\u001b[0m     file_path \u001b[39m=\u001b[39m os\u001b[39m.\u001b[39mpath\u001b[39m.\u001b[39mjoin(directory_path, file)\n\u001b[1;32m---> <a href='vscode-notebook-cell:/c%3A/Users/kinla/Documents/All_github_repo/prog-for-humanists/colabs/play_with_data.ipynb#W1sZmlsZQ%3D%3D?line=13'>14</a>\u001b[0m     table \u001b[39m=\u001b[39m pa\u001b[39m.\u001b[39;49mipc\u001b[39m.\u001b[39;49mopen_file(file_path)\u001b[39m.\u001b[39mread_all()  \u001b[39m# Read the Arrow file\u001b[39;00m\n\u001b[0;32m     <a href='vscode-notebook-cell:/c%3A/Users/kinla/Documents/All_github_repo/prog-for-humanists/colabs/play_with_data.ipynb#W1sZmlsZQ%3D%3D?line=14'>15</a>\u001b[0m     tables\u001b[39m.\u001b[39mappend(table)\n\u001b[0;32m     <a href='vscode-notebook-cell:/c%3A/Users/kinla/Documents/All_github_repo/prog-for-humanists/colabs/play_with_data.ipynb#W1sZmlsZQ%3D%3D?line=16'>17</a>\u001b[0m \u001b[39m# Concatenate the tables into a single table\u001b[39;00m\n",
      "File \u001b[1;32mc:\\Users\\kinla\\AppData\\Local\\Programs\\Python\\Python310\\lib\\site-packages\\pyarrow\\ipc.py:234\u001b[0m, in \u001b[0;36mopen_file\u001b[1;34m(source, footer_offset, options, memory_pool)\u001b[0m\n\u001b[0;32m    212\u001b[0m \u001b[39mdef\u001b[39;00m \u001b[39mopen_file\u001b[39m(source, footer_offset\u001b[39m=\u001b[39m\u001b[39mNone\u001b[39;00m, \u001b[39m*\u001b[39m, options\u001b[39m=\u001b[39m\u001b[39mNone\u001b[39;00m, memory_pool\u001b[39m=\u001b[39m\u001b[39mNone\u001b[39;00m):\n\u001b[0;32m    213\u001b[0m \u001b[39m    \u001b[39m\u001b[39m\"\"\"\u001b[39;00m\n\u001b[0;32m    214\u001b[0m \u001b[39m    Create reader for Arrow file format.\u001b[39;00m\n\u001b[0;32m    215\u001b[0m \n\u001b[1;32m   (...)\u001b[0m\n\u001b[0;32m    232\u001b[0m \u001b[39m        A reader for the given source\u001b[39;00m\n\u001b[0;32m    233\u001b[0m \u001b[39m    \"\"\"\u001b[39;00m\n\u001b[1;32m--> 234\u001b[0m     \u001b[39mreturn\u001b[39;00m RecordBatchFileReader(\n\u001b[0;32m    235\u001b[0m         source, footer_offset\u001b[39m=\u001b[39;49mfooter_offset,\n\u001b[0;32m    236\u001b[0m         options\u001b[39m=\u001b[39;49moptions, memory_pool\u001b[39m=\u001b[39;49mmemory_pool)\n",
      "File \u001b[1;32mc:\\Users\\kinla\\AppData\\Local\\Programs\\Python\\Python310\\lib\\site-packages\\pyarrow\\ipc.py:110\u001b[0m, in \u001b[0;36mRecordBatchFileReader.__init__\u001b[1;34m(self, source, footer_offset, options, memory_pool)\u001b[0m\n\u001b[0;32m    107\u001b[0m \u001b[39mdef\u001b[39;00m \u001b[39m__init__\u001b[39m(\u001b[39mself\u001b[39m, source, footer_offset\u001b[39m=\u001b[39m\u001b[39mNone\u001b[39;00m, \u001b[39m*\u001b[39m, options\u001b[39m=\u001b[39m\u001b[39mNone\u001b[39;00m,\n\u001b[0;32m    108\u001b[0m              memory_pool\u001b[39m=\u001b[39m\u001b[39mNone\u001b[39;00m):\n\u001b[0;32m    109\u001b[0m     options \u001b[39m=\u001b[39m _ensure_default_ipc_read_options(options)\n\u001b[1;32m--> 110\u001b[0m     \u001b[39mself\u001b[39;49m\u001b[39m.\u001b[39;49m_open(source, footer_offset\u001b[39m=\u001b[39;49mfooter_offset,\n\u001b[0;32m    111\u001b[0m                options\u001b[39m=\u001b[39;49moptions, memory_pool\u001b[39m=\u001b[39;49mmemory_pool)\n",
      "File \u001b[1;32mc:\\Users\\kinla\\AppData\\Local\\Programs\\Python\\Python310\\lib\\site-packages\\pyarrow\\ipc.pxi:946\u001b[0m, in \u001b[0;36mpyarrow.lib._RecordBatchFileReader._open\u001b[1;34m()\u001b[0m\n",
      "File \u001b[1;32mc:\\Users\\kinla\\AppData\\Local\\Programs\\Python\\Python310\\lib\\site-packages\\pyarrow\\error.pxi:144\u001b[0m, in \u001b[0;36mpyarrow.lib.pyarrow_internal_check_status\u001b[1;34m()\u001b[0m\n",
      "File \u001b[1;32mc:\\Users\\kinla\\AppData\\Local\\Programs\\Python\\Python310\\lib\\site-packages\\pyarrow\\error.pxi:100\u001b[0m, in \u001b[0;36mpyarrow.lib.check_status\u001b[1;34m()\u001b[0m\n",
      "\u001b[1;31mArrowInvalid\u001b[0m: Not an Arrow file"
     ]
    }
   ],
   "source": [
    "import pyarrow as pa\n",
    "import os\n",
    "\n",
    "# Define the directory where your Arrow files are located\n",
    "directory_path = r\"C:\\Users\\kinla\\Documents\\All_github_repo\\datasets\\gutenberg\\train\"\n",
    "\n",
    "# Get a list of Arrow files in the directory\n",
    "arrow_files = [file for file in os.listdir(directory_path) if file.endswith('.arrow')]\n",
    "\n",
    "# Read and concatenate the Arrow files\n",
    "tables = []\n",
    "for file in arrow_files:\n",
    "    file_path = os.path.join(directory_path, file)\n",
    "    table = pa.ipc.open_file(file_path).read_all()  # Read the Arrow file\n",
    "    tables.append(table)\n",
    "\n",
    "# Concatenate the tables into a single table\n",
    "final_table = pa.concat_tables(tables)\n",
    "\n",
    "# Now you can work with the final_table\n",
    "print(final_table)\n"
   ]
  }
 ],
 "metadata": {
  "kernelspec": {
   "display_name": "Python 3",
   "language": "python",
   "name": "python3"
  },
  "language_info": {
   "codemirror_mode": {
    "name": "ipython",
    "version": 3
   },
   "file_extension": ".py",
   "mimetype": "text/x-python",
   "name": "python",
   "nbconvert_exporter": "python",
   "pygments_lexer": "ipython3",
   "version": "3.10.0"
  }
 },
 "nbformat": 4,
 "nbformat_minor": 2
}
