{
 "cells": [
  {
   "cell_type": "markdown",
   "metadata": {},
   "source": [
    "# Schema in MongoDB\n",
    "\n",
    "## What is a Schema?\n",
    "\n",
    "A schema is a JSON object that defines the structure and contents of your data. You can use Atlas App Services' BSON schemas, which extend the \n",
    "JSON Schema\n",
    " standard, to define your application's data model and validate documents whenever they're created, changed, or deleted.\n",
    "\n",
    "Schemas represent types of data rather than specific values. App Services supports many built-in schema types. These include primitives, like strings and numbers, as well as structural types, like objects and arrays, which you can combine to create schemas that represent custom object types.\n",
    "\n",
    "For example, this is a basic schema for data about cars and some car objects that conform to the schema:\n",
    "\n",
    "```javascript\n",
    "{\n",
    "  \"title\": \"car\",\n",
    "  \"required\": [\n",
    "     \"_id\",\n",
    "     \"year\",\n",
    "     \"make\",\n",
    "     \"model\",\n",
    "     \"miles\"\n",
    "  ],\n",
    "  \"properties\": {\n",
    "    \"_id\": { \"bsonType\": \"objectId\" },\n",
    "    \"year\": { \"bsonType\": \"string\" },\n",
    "    \"make\": { \"bsonType\": \"string\" },\n",
    "    \"model\": { \"bsonType\": \"string\" },\n",
    "    \"miles\": { \"bsonType\": \"number\" }\n",
    "  }\n",
    "}\n",
    "```\n"
   ]
  },
  {
   "cell_type": "code",
   "execution_count": null,
   "metadata": {},
   "outputs": [],
   "source": []
  }
 ],
 "metadata": {
  "language_info": {
   "name": "python"
  }
 },
 "nbformat": 4,
 "nbformat_minor": 2
}
