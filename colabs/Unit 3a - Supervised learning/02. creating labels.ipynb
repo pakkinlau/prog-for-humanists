{
 "cells": [
  {
   "cell_type": "markdown",
   "metadata": {},
   "source": [
    "# Understanding Machine Learning Labels\n",
    "\n",
    "Labels, also known as target variables or simply \"y\" in the context of machine learning, are the values we want our model to predict. In a supervised learning problem, the algorithm learns from input features (X) and corresponding labels (y) to make predictions on new, unseen data. The quality and accuracy of these labels significantly impact the performance of the machine learning model."
   ]
  },
  {
   "cell_type": "markdown",
   "metadata": {},
   "source": [
    "## Dataset preparation"
   ]
  },
  {
   "cell_type": "code",
   "execution_count": 5,
   "metadata": {},
   "outputs": [
    {
     "name": "stdout",
     "output_type": "stream",
     "text": [
      "Initial DataFrame:\n",
      "                    Title               Author  \\\n",
      "0        The Great Gatsby  F. Scott Fitzgerald   \n",
      "1   To Kill a Mockingbird           Harper Lee   \n",
      "2                 Sapiens    Yuval Noah Harari   \n",
      "3                    1984        George Orwell   \n",
      "4  The Catcher in the Rye        J.D. Salinger   \n",
      "\n",
      "                                             Summary  \n",
      "0  The story of the fabulously wealthy Jay Gatsby...  \n",
      "1  A novel set in the American South during the G...  \n",
      "2  A brief history of humankind, from the emergen...  \n",
      "3  A dystopian novel set in a totalitarian societ...  \n",
      "4  A teenage boy experiences in New York City, de...  \n"
     ]
    }
   ],
   "source": [
    "import pandas as pd\n",
    "\n",
    "# Sample data for the dataframe\n",
    "data = {\n",
    "    'Title': ['The Great Gatsby', 'To Kill a Mockingbird', 'Sapiens', '1984', 'The Catcher in the Rye'],\n",
    "    'Author': ['F. Scott Fitzgerald', 'Harper Lee', 'Yuval Noah Harari', 'George Orwell', 'J.D. Salinger'],\n",
    "    'Summary': [\n",
    "        'The story of the fabulously wealthy Jay Gatsby and his love for the beautiful Daisy Buchanan.',\n",
    "        'A novel set in the American South during the Great Depression, revolving around racial injustice.',\n",
    "        'A brief history of humankind, from the emergence of Homo sapiens in Africa to the present.',\n",
    "        'A dystopian novel set in a totalitarian society, exploring themes of surveillance and oppression.',\n",
    "        'A teenage boy experiences in New York City, dealing with themes of identity, alienation, and adolescence.',\n",
    "    ]\n",
    "}\n",
    "\n",
    "# Creating the dataframe\n",
    "df = pd.DataFrame(data)\n",
    "\n",
    "# Print the initial dataframe\n",
    "print(\"Initial DataFrame:\")\n",
    "print(df)\n"
   ]
  },
  {
   "cell_type": "markdown",
   "metadata": {},
   "source": [
    "## Creating labels"
   ]
  },
  {
   "cell_type": "markdown",
   "metadata": {},
   "source": [
    "# Creating Machine Learning Labels in Python: A Comprehensive Guide\n",
    "\n",
    "Machine learning models are powerful tools that can extract meaningful patterns from data to make predictions and decisions. However, for these models to learn, they need labeled data. Labels provide the necessary information for the algorithm to understand the relationship between input features and the desired output. In this article, we will explore various techniques for creating machine learning labels in Python.\n",
    "\n",
    "## Understanding Machine Learning Labels\n",
    "\n",
    "Labels, also known as target variables or simply \"y\" in the context of machine learning, are the values we want our model to predict. In a supervised learning problem, the algorithm learns from input features (X) and corresponding labels (y) to make predictions on new, unseen data. The quality and accuracy of these labels significantly impact the performance of the machine learning model.\n",
    "\n",
    "## 1. **Manual Labeling:**\n",
    "\n",
    "In many cases, especially when dealing with small datasets, manual labeling is a viable option. You can create labels by going through the data and assigning the appropriate output values. For example, in a binary classification problem (e.g., spam detection), labels could be `0` for non-spam and `1` for spam.\n",
    "\n",
    "```python\n",
    "# Manual labeling example\n",
    "labels = [0, 1, 0, 1, 1, 0, 0]\n",
    "```\n",
    "\n",
    "## 2. **CSV or Excel Files:**\n",
    "\n",
    "Data is often stored in CSV or Excel files. You can use Python libraries like `pandas` to read these files and extract labels from specific columns.\n",
    "\n",
    "```python\n",
    "import pandas as pd\n",
    "\n",
    "# Read labels from a CSV file\n",
    "data = pd.read_csv('data.csv')\n",
    "labels = data['labels'].tolist()\n",
    "```\n",
    "\n",
    "## 3. **Database Retrieval:**\n",
    "\n",
    "If your data is stored in a database, you can retrieve labels using SQL queries with libraries like `sqlite3` or `SQLAlchemy`.\n",
    "\n",
    "```python\n",
    "import sqlite3\n",
    "\n",
    "# Connect to the database\n",
    "conn = sqlite3.connect('database.db')\n",
    "cursor = conn.cursor()\n",
    "\n",
    "# Execute SQL query to retrieve labels\n",
    "cursor.execute('SELECT labels FROM table_name')\n",
    "labels = cursor.fetchall()\n",
    "```\n",
    "\n",
    "## 4. **Text Labeling:**\n",
    "\n",
    "For natural language processing tasks, text data can be labeled using techniques like sentiment analysis, where the sentiment of the text (positive, negative, or neutral) is used as the label.\n",
    "\n",
    "```python\n",
    "from textblob import TextBlob\n",
    "\n",
    "# Perform sentiment analysis to label text data\n",
    "text = \"I love Python programming!\"\n",
    "blob = TextBlob(text)\n",
    "sentiment_label = blob.sentiment.polarity\n",
    "```\n",
    "\n",
    "## 5. **Clustering Algorithms:**\n",
    "\n",
    "Unsupervised learning techniques like clustering can be used to group similar data points together. These groups can then be manually labeled.\n",
    "\n",
    "```python\n",
    "from sklearn.cluster import KMeans\n",
    "\n",
    "# Apply KMeans clustering to group data\n",
    "kmeans = KMeans(n_clusters=2)\n",
    "kmeans.fit(data)\n",
    "cluster_labels = kmeans.labels_\n",
    "```\n",
    "\n",
    "## 6. **Active Learning:**\n",
    "\n",
    "Active learning involves iteratively selecting the most informative data points for labeling. Libraries like `modAL` can be used for active learning in Python.\n",
    "\n",
    "```python\n",
    "from modAL.models import ActiveLearner\n",
    "from modAL.uncertainty import uncertainty_sampling\n",
    "\n",
    "# Create an ActiveLearner instance with a chosen estimator\n",
    "learner = ActiveLearner(estimator=RandomForestClassifier(), query_strategy=uncertainty_sampling, X_training=X_train, y_training=y_train)\n",
    "\n",
    "# Query for the most informative data points\n",
    "query_idx, query_instance = learner.query(X_pool)\n",
    "```\n",
    "\n",
    "## Conclusion:\n",
    "\n",
    "Creating accurate machine learning labels is a crucial step in building effective predictive models. Whether you're dealing with small datasets or large databases, Python provides a variety of tools and techniques to generate these labels effectively. By understanding the nature of your data and employing appropriate labeling methods, you can significantly enhance the performance and reliability of your machine learning models. Remember, the quality of your labels directly impacts the quality of your predictions, so choose your labeling methods wisely."
   ]
  }
 ],
 "metadata": {
  "kernelspec": {
   "display_name": "Python 3",
   "language": "python",
   "name": "python3"
  },
  "language_info": {
   "codemirror_mode": {
    "name": "ipython",
    "version": 3
   },
   "file_extension": ".py",
   "mimetype": "text/x-python",
   "name": "python",
   "nbconvert_exporter": "python",
   "pygments_lexer": "ipython3",
   "version": "3.10.0"
  }
 },
 "nbformat": 4,
 "nbformat_minor": 2
}
