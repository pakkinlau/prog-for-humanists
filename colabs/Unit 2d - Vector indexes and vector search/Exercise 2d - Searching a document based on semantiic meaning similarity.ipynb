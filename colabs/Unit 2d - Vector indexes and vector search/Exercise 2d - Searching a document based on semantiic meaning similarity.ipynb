{
 "cells": [
  {
   "cell_type": "markdown",
   "metadata": {},
   "source": [
    "## Connecting to database"
   ]
  },
  {
   "cell_type": "code",
   "execution_count": null,
   "metadata": {},
   "outputs": [],
   "source": []
  },
  {
   "cell_type": "markdown",
   "metadata": {},
   "source": [
    "## Create a collection and insert documents "
   ]
  },
  {
   "cell_type": "code",
   "execution_count": null,
   "metadata": {},
   "outputs": [],
   "source": [
    "# Access the database\n",
    "db = client[\"your_database_name\"]\n",
    "\n",
    "# Create the collection\n",
    "collection = db[\"documents\"]\n",
    "\n",
    "# Insert sample documents\n",
    "documents = [\n",
    "    {\"text\": \"The sun is shining brightly.\"},\n",
    "    {\"text\": \"The weather is sunny today.\"},\n",
    "    {\"text\": \"It's a beautiful day.\"},\n",
    "    # Add more sample documents representing different semantic meanings\n",
    "]\n",
    "\n",
    "# Insert the documents into the collection\n",
    "collection.insert_many(documents)\n",
    "```"
   ]
  },
  {
   "cell_type": "markdown",
   "metadata": {},
   "source": [
    "## Define semantic similarity search function"
   ]
  },
  {
   "cell_type": "code",
   "execution_count": null,
   "metadata": {},
   "outputs": [],
   "source": [
    "def semantic_search(query):\n",
    "    # Create a text index on the \"text\" field for semantic search\n",
    "    collection.create_index([(\"text\", \"text\")])\n",
    "\n",
    "    # Perform the search query\n",
    "    result = collection.find(\n",
    "        {\"$text\": {\"$search\": query}},\n",
    "        {\"score\": {\"$meta\": \"textScore\"}}\n",
    "    ).sort([(\"score\", {\"$meta\": \"textScore\"})])\n",
    "\n",
    "    # Return the search result\n",
    "    return result\n",
    "```"
   ]
  },
  {
   "cell_type": "markdown",
   "metadata": {},
   "source": [
    "## Test the Semantic Similarity Search"
   ]
  },
  {
   "cell_type": "code",
   "execution_count": null,
   "metadata": {},
   "outputs": [],
   "source": [
    "query = \"beautiful sunny day\"\n",
    "search_result = semantic_search(query)\n",
    "\n",
    "for document in search_result:\n",
    "    print(document[\"text\"])"
   ]
  }
 ],
 "metadata": {
  "language_info": {
   "name": "python"
  }
 },
 "nbformat": 4,
 "nbformat_minor": 2
}
