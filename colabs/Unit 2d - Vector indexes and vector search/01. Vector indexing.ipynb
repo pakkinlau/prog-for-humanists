{
 "cells": [
  {
   "cell_type": "markdown",
   "metadata": {},
   "source": [
    "## What is vector search?\n",
    "\n",
    "- Vector search is a method that helps you find similar items based on their data characteristics rather than by exact matches on a property field. \n",
    "- This technique is useful in applications such as searching for similar text, finding related images, making recommendations, or even detecting anomalies. \n",
    "- It works by taking the vector representations (lists of numbers) of your data that you created by using a machine learning model by using an embeddings API. \n"
   ]
  },
  {
   "cell_type": "markdown",
   "metadata": {},
   "source": [
    "## Index vector embeddings for vector search"
   ]
  },
  {
   "cell_type": "markdown",
   "metadata": {},
   "source": [
    "Reference:\n",
    "\n",
    "https://www.mongodb.com/docs/atlas/atlas-search/field-types/knn-vector/\n",
    "\n"
   ]
  },
  {
   "cell_type": "markdown",
   "metadata": {},
   "source": [
    "## Create KNN index on the specifiations of the data format in the database"
   ]
  },
  {
   "cell_type": "code",
   "execution_count": null,
   "metadata": {},
   "outputs": [],
   "source": [
    "from pymongo import MongoClient\n",
    "\n",
    "# Connect to MongoDB\n",
    "client = MongoClient(\"mongodb://localhost:27017/\")  # Replace with your MongoDB connection string\n",
    "db = client[\"your_database_name\"]  # Replace with your database name\n",
    "collection = db[\"your_collection_name\"]  # Replace with your collection name\n",
    "\n",
    "# Define KNN index specification\n",
    "knn_index_spec = {\n",
    "    \"mappings\": {\n",
    "        \"name\": \"vector_index\",\n",
    "        \"dynamic\": False,\n",
    "        \"fields\": {\n",
    "            \"embedding\": {\n",
    "                \"type\": \"knnVector\",\n",
    "                \"dimensions\": 100,  # Example: 100 dimensions for your vector\n",
    "                \"similarity\": \"cosine\"\n",
    "            }\n",
    "        }\n",
    "    }\n",
    "}\n",
    "\n",
    "# Create the KNN index\n",
    "result = db.command(\"createIndexes\", \"your_collection_name\", indexes=[knn_index_spec])\n",
    "\n",
    "# Print the result\n",
    "print(result)\n"
   ]
  },
  {
   "cell_type": "markdown",
   "metadata": {},
   "source": [
    "## Update existing documents with vector embeddings"
   ]
  },
  {
   "cell_type": "code",
   "execution_count": null,
   "metadata": {},
   "outputs": [],
   "source": [
    "from pymongo import MongoClient\n",
    "\n",
    "# Connect to MongoDB\n",
    "client = MongoClient('mongodb://localhost:27017/')  # Replace with your MongoDB connection URI\n",
    "db = client['your_database']  # Replace 'your_database' with your actual database name\n",
    "collection = db['your_collection']  # Replace 'your_collection' with your actual collection name\n",
    "\n",
    "# Define the vector values you want to add\n",
    "vector_values = [0.1, 0.5, 0.3, ..., 0.9]  # Replace this with your actual vector values\n",
    "\n",
    "# Update existing documents with vector embeddings\n",
    "collection.update_many(\n",
    "    {},  # Match all documents in the collection\n",
    "    [\n",
    "        {\n",
    "            '$set': {\n",
    "                'embedding': vector_values  # Add vector values to the 'embedding' field\n",
    "            }\n",
    "        }\n",
    "    ]\n",
    ")\n",
    "\n",
    "# Verify the update\n",
    "documents_with_embedding = collection.find({'embedding': {'$exists': True}})\n",
    "for document in documents_with_embedding:\n",
    "    print(document)\n"
   ]
  },
  {
   "cell_type": "markdown",
   "metadata": {},
   "source": [
    "## Verify the update"
   ]
  },
  {
   "cell_type": "code",
   "execution_count": null,
   "metadata": {},
   "outputs": [],
   "source": [
    "from pymongo import MongoClient\n",
    "\n",
    "# MongoDB connection\n",
    "client = MongoClient('mongodb://localhost:27017/')  # Connection URI, change it accordingly\n",
    "db = client['your_database_name']  # Replace 'your_database_name' with your actual database name\n",
    "collection = db['your_collection_name']  # Replace 'your_collection_name' with your actual collection name\n",
    "\n",
    "# Update existing documents with vector embeddings\n",
    "filter_query = {}  # Filter to match all documents in the collection\n",
    "update_query = [\n",
    "    {\n",
    "        '$set': {\n",
    "            \"embedding\": [0.1, 0.5, 0.3, ..., 0.9]  # Replace this with your actual vector values\n",
    "        }\n",
    "    }\n",
    "]\n",
    "\n",
    "result = collection.update_many(filter_query, update_query)\n",
    "\n",
    "# Verify the update\n",
    "if result.modified_count > 0:\n",
    "    print(f\"Updated {result.modified_count} documents.\")\n",
    "else:\n",
    "    print(\"No documents were updated.\")\n",
    "\n",
    "# Verify the update by querying documents with the 'embedding' field\n",
    "documents_with_embedding = collection.find({\"embedding\": {\"$exists\": True}})\n",
    "\n",
    "# Print documents with embeddings\n",
    "for doc in documents_with_embedding:\n",
    "    print(doc)\n"
   ]
  }
 ],
 "metadata": {
  "kernelspec": {
   "display_name": "Python 3",
   "language": "python",
   "name": "python3"
  },
  "language_info": {
   "codemirror_mode": {
    "name": "ipython",
    "version": 3
   },
   "file_extension": ".py",
   "mimetype": "text/x-python",
   "name": "python",
   "nbconvert_exporter": "python",
   "pygments_lexer": "ipython3",
   "version": "3.10.0"
  }
 },
 "nbformat": 4,
 "nbformat_minor": 2
}
