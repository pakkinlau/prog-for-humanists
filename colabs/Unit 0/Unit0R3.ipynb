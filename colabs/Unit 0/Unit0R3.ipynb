{
 "cells": [
  {
   "cell_type": "markdown",
   "metadata": {},
   "source": [
    "<h2><center>THE CHINESE UNIVERSITY OF HONG KONG<br />\n",
    "    Department of History<br />\n",
    " HIST47XX<br />\n",
    "    Programming For Humanists</center></h2>\n",
    "\n",
    "# Unit 0R3<a id='top'></a>\n",
    "\n",
    "- <a href='#section1'>Section 1 - Installation of git bash</a>\n",
    "- <a href='#section2'>Section 2 - Getting a git repository</a>\n",
    "- <a href='#section3'>Section 3 - Recording Changes to the Repository</a>\n",
    "- <a href='#section4'>Section 4 - Check version difference with double dot method</a>"
   ]
  },
  {
   "cell_type": "markdown",
   "metadata": {},
   "source": [
    "Learning to use GitHub can be incredibly beneficial for humanities students, even if they are already familiar with using Google Drive. Here are several reasons why humanities students should consider learning GitHub:\n",
    "\n",
    "GitHub uses a version control system called Git, which allows users to keep track of changes made to documents over time. This is especially useful for collaborative projects where multiple people are working on the same document. "
   ]
  },
  {
   "cell_type": "markdown",
   "metadata": {},
   "source": [
    "<table style=\"width:100%\">\n",
    "  <tr>\n",
    "    <th>Aspect</th>\n",
    "    <th>Cloud Drive</th>\n",
    "    <th>GitHub Repository</th>\n",
    "  </tr>\n",
    "  <tr>\n",
    "    <td>Storage</td>\n",
    "    <td>Offers cloud storage for files and documents.</td>\n",
    "    <td>Primarily used for version control of source code.</td>\n",
    "  </tr>\n",
    "  <tr>\n",
    "    <td>Collaboration</td>\n",
    "    <td>Allows real-time collaboration on documents.</td>\n",
    "    <td>Supports collaborative development with features like pull requests and issues.</td>\n",
    "  </tr>\n",
    "  <tr>\n",
    "    <td>Access Control</td>\n",
    "    <td>Provides options to set access permissions for files and folders.</td>\n",
    "    <td>Offers fine-grained access control with user roles and permissions.</td>\n",
    "  </tr>\n",
    "  <tr>\n",
    "    <td>Versioning</td>\n",
    "    <td>May support versioning for files, but limited compared to Git.</td>\n",
    "    <td>Uses Git for robust version control, allowing detailed tracking of changes.</td>\n",
    "  </tr>\n",
    "  <tr>\n",
    "    <td>Use Cases</td>\n",
    "    <td>Great for file storage, document sharing, and collaboration.</td>\n",
    "    <td>Ideal for software development, collaborative coding, and open-source projects.</td>\n",
    "  </tr>\n",
    "</table>\n"
   ]
  },
  {
   "cell_type": "markdown",
   "metadata": {},
   "source": [
    "Use cases: \n",
    "\n",
    "1. Storage\n",
    "    - Storage space is unlimited\n",
    "\n",
    "2. Version control\n",
    "    - Single user can use github to  helps in avoiding conflicts and provides a clear history of changes made by different contributors.\n",
    "\n",
    "3. Collaborative Research\n",
    "    - Pull requests and issues of Github allows multiple people to work on the same project simultaneously, making collaboration more efficient.\n",
    "\n",
    "4. Open source and public engagement:\n",
    "    - By publishing their work on GitHub, humanities students can engage with the broader community, receive feedback from experts, and contribute to open-source projects related to their field. "
   ]
  },
  {
   "cell_type": "markdown",
   "metadata": {},
   "source": [
    "## Section 1 - Installation of git bash <a id='section1'></a>\n",
    "\n",
    "1. Download git bash: https://git-scm.com/downloads\n",
    "\n",
    "2. First-time git setup: https://git-scm.com/book/en/v2/Getting-Started-First-Time-Git-Setup"
   ]
  },
  {
   "cell_type": "markdown",
   "metadata": {},
   "source": [
    "## Section 2 - Getting a git repository <a id='section2'></a>\n",
    "\n",
    "1. Git basics - getting a git repository: https://git-scm.com/book/en/v2/Git-Basics-Getting-a-Git-Repository\n",
    "\n",
    "2. Adding a readme.md in the local folder before committing"
   ]
  },
  {
   "cell_type": "markdown",
   "metadata": {},
   "source": [
    "## Section 3 - Recording Changes to the Repository<a id='section3'></a>\n",
    "\n",
    "1. 2.2 Git Basics - Recording Changes to the Repository: https://git-scm.com/book/en/v2/Git-Basics-Recording-Changes-to-the-Repository"
   ]
  },
  {
   "cell_type": "markdown",
   "metadata": {},
   "source": [
    "## Section 4 - Check version difference with double dot method <a id='section4'></a>\n",
    "\n",
    "- The two-dot comparison shows the difference between the latest state of the base branch (for example, main) and the most recent version of the topic branch.\n",
    "\n",
    "To see two committish references in a two-dot diff comparison on GitHub, you can edit the URL of your repository's \"Comparing changes\" page. For more information, see the Git Glossary for \"committish\" from the Pro Git book site.\n",
    "\n",
    "1. Github - Two dot git diff comparison:  https://docs.github.com/en/pull-requests/collaborating-with-pull-requests/proposing-changes-to-your-work-with-pull-requests/about-comparing-branches-in-pull-requests#two-dot-git-diff-comparison"
   ]
  }
 ],
 "metadata": {
  "language_info": {
   "name": "python"
  },
  "orig_nbformat": 4
 },
 "nbformat": 4,
 "nbformat_minor": 2
}
