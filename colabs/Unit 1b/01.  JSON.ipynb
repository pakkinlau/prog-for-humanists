{
 "cells": [
  {
   "cell_type": "markdown",
   "metadata": {},
   "source": [
    "## What are JSON files?\n",
    "\n",
    "\n",
    "JSON (JavaScript Object Notation) is a lightweight data interchange format that is easy for humans to read and write. It is also easy for machines to parse and generate. JSON files are used to store and exchange data between a server and a client, serving as a common data format with diverse applications.\n",
    "\n",
    "JSON data is represented as key-value pairs, similar to how data is stored in associative arrays in various programming languages. A JSON object is an unordered set of key-value pairs, where each key is a string and each value can be a string, number, boolean, null, array, or another JSON object. Here's an example of a JSON object representing information about a person:"
   ]
  },
  {
   "cell_type": "code",
   "execution_count": null,
   "metadata": {
    "vscode": {
     "languageId": "javascript"
    }
   },
   "outputs": [],
   "source": [
    "{\n",
    "  \"name\": \"John Doe\",\n",
    "  \"age\": 30,\n",
    "  \"isEmployee\": true,\n",
    "  \"address\": {\n",
    "    \"street\": \"123 Main St\",\n",
    "    \"city\": \"Anytown\",\n",
    "    \"postalCode\": \"12345\"\n",
    "  },\n",
    "  \"phoneNumbers\": [\"123-456-7890\", \"987-654-3210\"]\n",
    "}\n"
   ]
  },
  {
   "cell_type": "markdown",
   "metadata": {},
   "source": [
    "In JSON, there are six data types that can be used to represent values:\n",
    "\n",
    "1. **String:** A string is a sequence of characters, represented within double quotes. For example: `\"Hello, World!\"`\n",
    "\n",
    "2. **Number:** A number can be an integer or a floating-point value. JSON does not distinguish between different types of numbers like integers, floats, or doubles. For example: `42` or `3.14`\n",
    "\n",
    "3. **Boolean:** A boolean value can be either `true` or `false`.\n",
    "\n",
    "4. **Null:** The `null` value represents the absence of a value or a null value. It is represented as `null`.\n",
    "\n",
    "5. **Array:** An array is an ordered collection of values. Array elements can be of any data type, including strings, numbers, booleans, null, objects, or even other arrays. Arrays are represented using square brackets. For example: `[1, 2, 3]` or `[\"apple\", \"banana\", \"orange\"]`\n",
    "\n",
    "6. **Object:** An object is an unordered collection of key-value pairs, where keys are strings and values can be any valid JSON data type. Objects are represented using curly braces. For example:\n"
   ]
  }
 ],
 "metadata": {
  "language_info": {
   "name": "python"
  }
 },
 "nbformat": 4,
 "nbformat_minor": 2
}
