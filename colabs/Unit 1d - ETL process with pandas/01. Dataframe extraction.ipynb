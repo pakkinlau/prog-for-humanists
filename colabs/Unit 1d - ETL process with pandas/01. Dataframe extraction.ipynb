{
 "cells": [
  {
   "cell_type": "markdown",
   "metadata": {},
   "source": [
    "## Manipulating DataFrames"
   ]
  },
  {
   "cell_type": "code",
   "execution_count": null,
   "metadata": {},
   "outputs": [],
   "source": [
    "### Exploring dataframes\n",
    "\n"
   ]
  },
  {
   "cell_type": "code",
   "execution_count": 8,
   "metadata": {},
   "outputs": [
    {
     "name": "stdout",
     "output_type": "stream",
     "text": [
      "   ID     Name  Age  Salary Department\n",
      "0   1    Alice   28   50000         HR\n",
      "1   2      Bob   22   60000         IT\n",
      "2   3  Charlie   25   75000         IT\n",
      "3   4    David   32   90000    Finance\n",
      "4   5      Eva   29   55000         HR\n"
     ]
    }
   ],
   "source": [
    "import pandas as pd\n",
    "\n",
    "# Creating a sample dataframe\n",
    "data = {\n",
    "    'ID': [1, 2, 3, 4, 5],\n",
    "    'Name': ['Alice', 'Bob', 'Charlie', 'David', 'Eva'],\n",
    "    'Age': [28, 22, 25, 32, 29],\n",
    "    'Salary': [50000, 60000, 75000, 90000, 55000],\n",
    "    'Department': ['HR', 'IT', 'IT', 'Finance', 'HR']\n",
    "}\n",
    "df = pd.DataFrame(data)\n",
    "print(df)"
   ]
  },
  {
   "cell_type": "markdown",
   "metadata": {},
   "source": [
    "## Subsetting dataframes with Selection (σ) and Projection (π)"
   ]
  },
  {
   "cell_type": "code",
   "execution_count": 7,
   "metadata": {},
   "outputs": [
    {
     "name": "stdout",
     "output_type": "stream",
     "text": [
      "\n",
      "Selection (Age > 25):\n",
      "   ID   Name  Age  Salary Department\n",
      "0   1  Alice   28   50000         HR\n",
      "3   4  David   32   90000    Finance\n",
      "4   5    Eva   29   55000         HR\n",
      "\n",
      "Projection (ID, Name, Department):\n",
      "   ID     Name Department\n",
      "0   1    Alice         HR\n",
      "1   2      Bob         IT\n",
      "2   3  Charlie         IT\n",
      "3   4    David    Finance\n",
      "4   5      Eva         HR\n"
     ]
    }
   ],
   "source": [
    "# 1. Selection (σ): This operation selects specific rows from a relation that satisfy a given condition.\n",
    "selected_df = df[df['Age'] > 25]\n",
    "print(\"\\nSelection (Age > 25):\")\n",
    "print(selected_df)\n",
    "\n",
    "\n",
    "# 2. Projection (π): This operation selects specific columns from a relation and eliminates duplicates.\n",
    "projected_df = df[['ID', 'Name', 'Department']]\n",
    "print(\"\\nProjection (ID, Name, Department):\")\n",
    "print(projected_df)\n"
   ]
  },
  {
   "cell_type": "markdown",
   "metadata": {},
   "source": [
    "## Adding new columns in a dataframe "
   ]
  },
  {
   "cell_type": "code",
   "execution_count": 5,
   "metadata": {},
   "outputs": [
    {
     "name": "stdout",
     "output_type": "stream",
     "text": [
      "   ID   Name  Age  Salary Department  Salary_annual\n",
      "0   1  Alice   28   50000         HR         600000\n",
      "3   4  David   32   90000    Finance        1080000\n",
      "4   5    Eva   29   55000         HR         660000\n"
     ]
    },
    {
     "name": "stderr",
     "output_type": "stream",
     "text": [
      "C:\\Users\\kinla\\AppData\\Local\\Temp\\ipykernel_26612\\365496024.py:7: SettingWithCopyWarning: \n",
      "A value is trying to be set on a copy of a slice from a DataFrame.\n",
      "Try using .loc[row_indexer,col_indexer] = value instead\n",
      "\n",
      "See the caveats in the documentation: https://pandas.pydata.org/pandas-docs/stable/user_guide/indexing.html#returning-a-view-versus-a-copy\n",
      "  selected_df['Salary_annual'] = selected_df['Salary'] * 12\n"
     ]
    }
   ],
   "source": [
    "import pandas as pd\n",
    "\n",
    "# Assuming you have a DataFrame called 'df' representing your original dataset\n",
    "# and a list of new labels called 'new_labels'\n",
    "\n",
    "# Create a new column in the DataFrame and assign the new labels to it\n",
    "selected_df['Salary_annual'] = selected_df['Salary'] * 12\n",
    "print(selected_df)\n",
    "\n",
    "# Now your DataFrame 'df' contains a new column 'new_labels_column' with the new labels\n"
   ]
  }
 ],
 "metadata": {
  "kernelspec": {
   "display_name": "Python 3",
   "language": "python",
   "name": "python3"
  },
  "language_info": {
   "codemirror_mode": {
    "name": "ipython",
    "version": 3
   },
   "file_extension": ".py",
   "mimetype": "text/x-python",
   "name": "python",
   "nbconvert_exporter": "python",
   "pygments_lexer": "ipython3",
   "version": "3.10.0"
  }
 },
 "nbformat": 4,
 "nbformat_minor": 2
}
