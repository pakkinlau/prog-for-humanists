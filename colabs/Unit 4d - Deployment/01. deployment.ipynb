{
 "cells": [
  {
   "cell_type": "markdown",
   "metadata": {},
   "source": [
    "Say we have the following simple web app want to publish:\n",
    "\n",
    "```python\n",
    "import streamlit as st\n",
    "\n",
    "st.title('Hello, Hugging Face Spaces!')\n",
    "st.write('Welcome to my first Streamlit web app on Hugging Face Spaces.')\n",
    "```"
   ]
  },
  {
   "cell_type": "markdown",
   "metadata": {},
   "source": [
    "## Upload the streamlit app to hugging face spaces\n",
    "\n",
    "- With huggingface token, username, space_name, repo_id, we can use `HfApi()` to upload our webapp to any repo and host our app. "
   ]
  },
  {
   "cell_type": "code",
   "execution_count": null,
   "metadata": {},
   "outputs": [],
   "source": [
    "from huggingface_hub import HfApi, HfFolder\n",
    "\n",
    "# Replace these with your Hugging Face username and space name\n",
    "username = 'your-username'\n",
    "space_name = 'your-space-name'\n",
    "\n",
    "# Authenticate to Hugging Face\n",
    "hf_folder = HfFolder()\n",
    "token = hf_folder.get_token()\n",
    "\n",
    "# Instantiate the Hugging Face API\n",
    "api = HfApi()\n",
    "\n",
    "# Upload your app\n",
    "api.upload_file(\n",
    "    filename='app.py',\n",
    "    path='/',\n",
    "    repo_id=f'{username}/{space_name}',\n",
    "    token=token\n",
    ")"
   ]
  },
  {
   "cell_type": "markdown",
   "metadata": {},
   "source": [
    "## Deploy Your Streamlit App\n",
    "\n",
    "- Go back to your space on Hugging Face Spaces. You should see your app.py file listed. Click the 'Deploy' button to deploy your Streamlit app. After a few moments, you should see your app running!"
   ]
  }
 ],
 "metadata": {
  "language_info": {
   "name": "python"
  }
 },
 "nbformat": 4,
 "nbformat_minor": 2
}
